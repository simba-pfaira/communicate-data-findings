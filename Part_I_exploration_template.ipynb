{
 "cells": [
  {
   "cell_type": "markdown",
   "metadata": {},
   "source": [
    "# Part I - Ford GoBike Data Exploration\n",
    "## by Simba Pfaira\n",
    "\n",
    "# Introduction\n",
    "This project explores the `San Francisco Bay Area Bike Share` dataset which contains information about trips taken by riders, their subscription type, their age, their gender, stations of starting and ending trips, duration of trips among other attributes.\n",
    "\n",
    "The San Francisco Bay Area Bike Share is a public bicycle sharing system around the San Francisco Bay Area. Bicycles are made available for shared use to individuals on a short term basis for a once-off price or for a mothly or annual subscription fees. The system allows people to borrow a bike from a `dock` and return it at another dock belonging to the same system. Docks are special bike racks that lock the bike, and only release it by computer control. The user enters payment information, and the computer unlocks a bike. The user returns the bike by placing it in the dock, which locks it in place. The system uses smartphone mapping apps which show nearby available bikes and open docks.\n",
    "\n",
    "\n",
    "# Preliminary Wrangling\n"
   ]
  },
  {
   "cell_type": "code",
   "execution_count": 2,
   "metadata": {},
   "outputs": [],
   "source": [
    "# Importing all required packages and setting plots to be embedded inline\n",
    "import numpy as np\n",
    "import pandas as pd\n",
    "import matplotlib.pyplot as plt\n",
    "import seaborn as sb\n",
    "%matplotlib inline"
   ]
  },
  {
   "cell_type": "code",
   "execution_count": 3,
   "metadata": {},
   "outputs": [
    {
     "name": "stdout",
     "output_type": "stream",
     "text": [
      "(183412, 16)\n",
      "<class 'pandas.core.frame.DataFrame'>\n",
      "RangeIndex: 183412 entries, 0 to 183411\n",
      "Data columns (total 16 columns):\n",
      " #   Column                   Non-Null Count   Dtype  \n",
      "---  ------                   --------------   -----  \n",
      " 0   duration_sec             183412 non-null  int64  \n",
      " 1   start_time               183412 non-null  object \n",
      " 2   end_time                 183412 non-null  object \n",
      " 3   start_station_id         183215 non-null  float64\n",
      " 4   start_station_name       183215 non-null  object \n",
      " 5   start_station_latitude   183412 non-null  float64\n",
      " 6   start_station_longitude  183412 non-null  float64\n",
      " 7   end_station_id           183215 non-null  float64\n",
      " 8   end_station_name         183215 non-null  object \n",
      " 9   end_station_latitude     183412 non-null  float64\n",
      " 10  end_station_longitude    183412 non-null  float64\n",
      " 11  bike_id                  183412 non-null  int64  \n",
      " 12  user_type                183412 non-null  object \n",
      " 13  member_birth_year        175147 non-null  float64\n",
      " 14  member_gender            175147 non-null  object \n",
      " 15  bike_share_for_all_trip  183412 non-null  object \n",
      "dtypes: float64(7), int64(2), object(7)\n",
      "memory usage: 22.4+ MB\n",
      "None\n"
     ]
    },
    {
     "data": {
      "text/html": [
       "<div>\n",
       "<style scoped>\n",
       "    .dataframe tbody tr th:only-of-type {\n",
       "        vertical-align: middle;\n",
       "    }\n",
       "\n",
       "    .dataframe tbody tr th {\n",
       "        vertical-align: top;\n",
       "    }\n",
       "\n",
       "    .dataframe thead th {\n",
       "        text-align: right;\n",
       "    }\n",
       "</style>\n",
       "<table border=\"1\" class=\"dataframe\">\n",
       "  <thead>\n",
       "    <tr style=\"text-align: right;\">\n",
       "      <th></th>\n",
       "      <th>0</th>\n",
       "      <th>1</th>\n",
       "      <th>2</th>\n",
       "      <th>3</th>\n",
       "      <th>4</th>\n",
       "    </tr>\n",
       "  </thead>\n",
       "  <tbody>\n",
       "    <tr>\n",
       "      <th>duration_sec</th>\n",
       "      <td>52185</td>\n",
       "      <td>42521</td>\n",
       "      <td>61854</td>\n",
       "      <td>36490</td>\n",
       "      <td>1585</td>\n",
       "    </tr>\n",
       "    <tr>\n",
       "      <th>start_time</th>\n",
       "      <td>2019-02-28 17:32:10.1450</td>\n",
       "      <td>2019-02-28 18:53:21.7890</td>\n",
       "      <td>2019-02-28 12:13:13.2180</td>\n",
       "      <td>2019-02-28 17:54:26.0100</td>\n",
       "      <td>2019-02-28 23:54:18.5490</td>\n",
       "    </tr>\n",
       "    <tr>\n",
       "      <th>end_time</th>\n",
       "      <td>2019-03-01 08:01:55.9750</td>\n",
       "      <td>2019-03-01 06:42:03.0560</td>\n",
       "      <td>2019-03-01 05:24:08.1460</td>\n",
       "      <td>2019-03-01 04:02:36.8420</td>\n",
       "      <td>2019-03-01 00:20:44.0740</td>\n",
       "    </tr>\n",
       "    <tr>\n",
       "      <th>start_station_id</th>\n",
       "      <td>21.0</td>\n",
       "      <td>23.0</td>\n",
       "      <td>86.0</td>\n",
       "      <td>375.0</td>\n",
       "      <td>7.0</td>\n",
       "    </tr>\n",
       "    <tr>\n",
       "      <th>start_station_name</th>\n",
       "      <td>Montgomery St BART Station (Market St at 2nd St)</td>\n",
       "      <td>The Embarcadero at Steuart St</td>\n",
       "      <td>Market St at Dolores St</td>\n",
       "      <td>Grove St at Masonic Ave</td>\n",
       "      <td>Frank H Ogawa Plaza</td>\n",
       "    </tr>\n",
       "    <tr>\n",
       "      <th>start_station_latitude</th>\n",
       "      <td>37.789625</td>\n",
       "      <td>37.791464</td>\n",
       "      <td>37.769305</td>\n",
       "      <td>37.774836</td>\n",
       "      <td>37.804562</td>\n",
       "    </tr>\n",
       "    <tr>\n",
       "      <th>start_station_longitude</th>\n",
       "      <td>-122.400811</td>\n",
       "      <td>-122.391034</td>\n",
       "      <td>-122.426826</td>\n",
       "      <td>-122.446546</td>\n",
       "      <td>-122.271738</td>\n",
       "    </tr>\n",
       "    <tr>\n",
       "      <th>end_station_id</th>\n",
       "      <td>13.0</td>\n",
       "      <td>81.0</td>\n",
       "      <td>3.0</td>\n",
       "      <td>70.0</td>\n",
       "      <td>222.0</td>\n",
       "    </tr>\n",
       "    <tr>\n",
       "      <th>end_station_name</th>\n",
       "      <td>Commercial St at Montgomery St</td>\n",
       "      <td>Berry St at 4th St</td>\n",
       "      <td>Powell St BART Station (Market St at 4th St)</td>\n",
       "      <td>Central Ave at Fell St</td>\n",
       "      <td>10th Ave at E 15th St</td>\n",
       "    </tr>\n",
       "    <tr>\n",
       "      <th>end_station_latitude</th>\n",
       "      <td>37.794231</td>\n",
       "      <td>37.77588</td>\n",
       "      <td>37.786375</td>\n",
       "      <td>37.773311</td>\n",
       "      <td>37.792714</td>\n",
       "    </tr>\n",
       "    <tr>\n",
       "      <th>end_station_longitude</th>\n",
       "      <td>-122.402923</td>\n",
       "      <td>-122.39317</td>\n",
       "      <td>-122.404904</td>\n",
       "      <td>-122.444293</td>\n",
       "      <td>-122.24878</td>\n",
       "    </tr>\n",
       "    <tr>\n",
       "      <th>bike_id</th>\n",
       "      <td>4902</td>\n",
       "      <td>2535</td>\n",
       "      <td>5905</td>\n",
       "      <td>6638</td>\n",
       "      <td>4898</td>\n",
       "    </tr>\n",
       "    <tr>\n",
       "      <th>user_type</th>\n",
       "      <td>Customer</td>\n",
       "      <td>Customer</td>\n",
       "      <td>Customer</td>\n",
       "      <td>Subscriber</td>\n",
       "      <td>Subscriber</td>\n",
       "    </tr>\n",
       "    <tr>\n",
       "      <th>member_birth_year</th>\n",
       "      <td>1984.0</td>\n",
       "      <td>NaN</td>\n",
       "      <td>1972.0</td>\n",
       "      <td>1989.0</td>\n",
       "      <td>1974.0</td>\n",
       "    </tr>\n",
       "    <tr>\n",
       "      <th>member_gender</th>\n",
       "      <td>Male</td>\n",
       "      <td>NaN</td>\n",
       "      <td>Male</td>\n",
       "      <td>Other</td>\n",
       "      <td>Male</td>\n",
       "    </tr>\n",
       "    <tr>\n",
       "      <th>bike_share_for_all_trip</th>\n",
       "      <td>No</td>\n",
       "      <td>No</td>\n",
       "      <td>No</td>\n",
       "      <td>No</td>\n",
       "      <td>Yes</td>\n",
       "    </tr>\n",
       "  </tbody>\n",
       "</table>\n",
       "</div>"
      ],
      "text/plain": [
       "                                                                        0  \\\n",
       "duration_sec                                                        52185   \n",
       "start_time                                       2019-02-28 17:32:10.1450   \n",
       "end_time                                         2019-03-01 08:01:55.9750   \n",
       "start_station_id                                                     21.0   \n",
       "start_station_name       Montgomery St BART Station (Market St at 2nd St)   \n",
       "start_station_latitude                                          37.789625   \n",
       "start_station_longitude                                       -122.400811   \n",
       "end_station_id                                                       13.0   \n",
       "end_station_name                           Commercial St at Montgomery St   \n",
       "end_station_latitude                                            37.794231   \n",
       "end_station_longitude                                         -122.402923   \n",
       "bike_id                                                              4902   \n",
       "user_type                                                        Customer   \n",
       "member_birth_year                                                  1984.0   \n",
       "member_gender                                                        Male   \n",
       "bike_share_for_all_trip                                                No   \n",
       "\n",
       "                                                     1  \\\n",
       "duration_sec                                     42521   \n",
       "start_time                    2019-02-28 18:53:21.7890   \n",
       "end_time                      2019-03-01 06:42:03.0560   \n",
       "start_station_id                                  23.0   \n",
       "start_station_name       The Embarcadero at Steuart St   \n",
       "start_station_latitude                       37.791464   \n",
       "start_station_longitude                    -122.391034   \n",
       "end_station_id                                    81.0   \n",
       "end_station_name                    Berry St at 4th St   \n",
       "end_station_latitude                          37.77588   \n",
       "end_station_longitude                       -122.39317   \n",
       "bike_id                                           2535   \n",
       "user_type                                     Customer   \n",
       "member_birth_year                                  NaN   \n",
       "member_gender                                      NaN   \n",
       "bike_share_for_all_trip                             No   \n",
       "\n",
       "                                                                    2  \\\n",
       "duration_sec                                                    61854   \n",
       "start_time                                   2019-02-28 12:13:13.2180   \n",
       "end_time                                     2019-03-01 05:24:08.1460   \n",
       "start_station_id                                                 86.0   \n",
       "start_station_name                            Market St at Dolores St   \n",
       "start_station_latitude                                      37.769305   \n",
       "start_station_longitude                                   -122.426826   \n",
       "end_station_id                                                    3.0   \n",
       "end_station_name         Powell St BART Station (Market St at 4th St)   \n",
       "end_station_latitude                                        37.786375   \n",
       "end_station_longitude                                     -122.404904   \n",
       "bike_id                                                          5905   \n",
       "user_type                                                    Customer   \n",
       "member_birth_year                                              1972.0   \n",
       "member_gender                                                    Male   \n",
       "bike_share_for_all_trip                                            No   \n",
       "\n",
       "                                                3                         4  \n",
       "duration_sec                                36490                      1585  \n",
       "start_time               2019-02-28 17:54:26.0100  2019-02-28 23:54:18.5490  \n",
       "end_time                 2019-03-01 04:02:36.8420  2019-03-01 00:20:44.0740  \n",
       "start_station_id                            375.0                       7.0  \n",
       "start_station_name        Grove St at Masonic Ave       Frank H Ogawa Plaza  \n",
       "start_station_latitude                  37.774836                 37.804562  \n",
       "start_station_longitude               -122.446546               -122.271738  \n",
       "end_station_id                               70.0                     222.0  \n",
       "end_station_name           Central Ave at Fell St     10th Ave at E 15th St  \n",
       "end_station_latitude                    37.773311                 37.792714  \n",
       "end_station_longitude                 -122.444293                -122.24878  \n",
       "bike_id                                      6638                      4898  \n",
       "user_type                              Subscriber                Subscriber  \n",
       "member_birth_year                          1989.0                    1974.0  \n",
       "member_gender                               Other                      Male  \n",
       "bike_share_for_all_trip                        No                       Yes  "
      ]
     },
     "execution_count": 3,
     "metadata": {},
     "output_type": "execute_result"
    }
   ],
   "source": [
    "# Loading the dataset into a pandas dataframe\n",
    "df = pd.read_csv('201902-fordgobike-tripdata.csv')\n",
    "\n",
    "# Printing out the dataframe statistics and attributes\n",
    "print(df.shape)\n",
    "print(df.info())\n",
    "df.head().T"
   ]
  },
  {
   "cell_type": "markdown",
   "metadata": {},
   "source": [
    "### The structure of your dataset\n",
    "\n",
    "The dataset contains information on 183412 bike trips and has 16 attributes for each bike trip.\n",
    "\n",
    "### The main feature of interest in your dataset\n",
    "\n",
    "I am most interested in figuring out the relationship between the duration of the rides, the gender and the age group of the users, and also how do bike trip patterns vary by time of day and the day of the week?\n",
    "\n",
    "### Features in the dataset that will help support the investigation into the features of interest\n",
    "\n",
    "I expect that days of the week will be the main feature influencing the demand of trips."
   ]
  },
  {
   "cell_type": "markdown",
   "metadata": {},
   "source": [
    "# Data cleaning\n",
    "\n",
    "Before I begin any data analysis and visualizations I would start by exploring and cleaning the dataset."
   ]
  },
  {
   "cell_type": "code",
   "execution_count": 57,
   "metadata": {
    "scrolled": true
   },
   "outputs": [
    {
     "data": {
      "text/html": [
       "<div>\n",
       "<style scoped>\n",
       "    .dataframe tbody tr th:only-of-type {\n",
       "        vertical-align: middle;\n",
       "    }\n",
       "\n",
       "    .dataframe tbody tr th {\n",
       "        vertical-align: top;\n",
       "    }\n",
       "\n",
       "    .dataframe thead th {\n",
       "        text-align: right;\n",
       "    }\n",
       "</style>\n",
       "<table border=\"1\" class=\"dataframe\">\n",
       "  <thead>\n",
       "    <tr style=\"text-align: right;\">\n",
       "      <th></th>\n",
       "      <th>duration_min</th>\n",
       "      <th>member_age</th>\n",
       "      <th>start_hour</th>\n",
       "      <th>end_hour</th>\n",
       "    </tr>\n",
       "  </thead>\n",
       "  <tbody>\n",
       "    <tr>\n",
       "      <th>count</th>\n",
       "      <td>174952.000000</td>\n",
       "      <td>174952.000000</td>\n",
       "      <td>174952.000000</td>\n",
       "      <td>174952.000000</td>\n",
       "    </tr>\n",
       "    <tr>\n",
       "      <th>mean</th>\n",
       "      <td>11.733224</td>\n",
       "      <td>34.125086</td>\n",
       "      <td>13.456165</td>\n",
       "      <td>13.609533</td>\n",
       "    </tr>\n",
       "    <tr>\n",
       "      <th>std</th>\n",
       "      <td>27.372059</td>\n",
       "      <td>9.872319</td>\n",
       "      <td>4.734282</td>\n",
       "      <td>4.748029</td>\n",
       "    </tr>\n",
       "    <tr>\n",
       "      <th>min</th>\n",
       "      <td>1.000000</td>\n",
       "      <td>18.000000</td>\n",
       "      <td>0.000000</td>\n",
       "      <td>0.000000</td>\n",
       "    </tr>\n",
       "    <tr>\n",
       "      <th>25%</th>\n",
       "      <td>5.000000</td>\n",
       "      <td>27.000000</td>\n",
       "      <td>9.000000</td>\n",
       "      <td>9.000000</td>\n",
       "    </tr>\n",
       "    <tr>\n",
       "      <th>50%</th>\n",
       "      <td>8.000000</td>\n",
       "      <td>32.000000</td>\n",
       "      <td>14.000000</td>\n",
       "      <td>14.000000</td>\n",
       "    </tr>\n",
       "    <tr>\n",
       "      <th>75%</th>\n",
       "      <td>13.000000</td>\n",
       "      <td>39.000000</td>\n",
       "      <td>17.000000</td>\n",
       "      <td>18.000000</td>\n",
       "    </tr>\n",
       "    <tr>\n",
       "      <th>max</th>\n",
       "      <td>1409.000000</td>\n",
       "      <td>80.000000</td>\n",
       "      <td>23.000000</td>\n",
       "      <td>23.000000</td>\n",
       "    </tr>\n",
       "  </tbody>\n",
       "</table>\n",
       "</div>"
      ],
      "text/plain": [
       "        duration_min     member_age     start_hour       end_hour\n",
       "count  174952.000000  174952.000000  174952.000000  174952.000000\n",
       "mean       11.733224      34.125086      13.456165      13.609533\n",
       "std        27.372059       9.872319       4.734282       4.748029\n",
       "min         1.000000      18.000000       0.000000       0.000000\n",
       "25%         5.000000      27.000000       9.000000       9.000000\n",
       "50%         8.000000      32.000000      14.000000      14.000000\n",
       "75%        13.000000      39.000000      17.000000      18.000000\n",
       "max      1409.000000      80.000000      23.000000      23.000000"
      ]
     },
     "execution_count": 57,
     "metadata": {},
     "output_type": "execute_result"
    }
   ],
   "source": [
    "# Getting the description of the dataframe\n",
    "df.describe()"
   ]
  },
  {
   "cell_type": "code",
   "execution_count": 5,
   "metadata": {},
   "outputs": [
    {
     "data": {
      "text/plain": [
       "0"
      ]
     },
     "execution_count": 5,
     "metadata": {},
     "output_type": "execute_result"
    }
   ],
   "source": [
    "# Checking for duplicated rows\n",
    "df.duplicated().sum()"
   ]
  },
  {
   "cell_type": "code",
   "execution_count": 56,
   "metadata": {},
   "outputs": [
    {
     "data": {
      "text/plain": [
       "start_station_name         0\n",
       "end_station_name           0\n",
       "user_type                  0\n",
       "member_gender              0\n",
       "bike_share_for_all_trip    0\n",
       "duration_min               0\n",
       "member_age                 0\n",
       "start_day                  0\n",
       "start_hour                 0\n",
       "end_hour                   0\n",
       "dtype: int64"
      ]
     },
     "execution_count": 56,
     "metadata": {},
     "output_type": "execute_result"
    }
   ],
   "source": [
    "# Checking for rows with null values\n",
    "df.isnull().sum()"
   ]
  },
  {
   "cell_type": "markdown",
   "metadata": {},
   "source": [
    "###### From the above exploration I can see that there are at most 8265 rows with at least one attribute missing. Since the rows with missing data only accounts for 4% (8265/183412) of the whole dataset, I will just drop the rows."
   ]
  },
  {
   "cell_type": "code",
   "execution_count": 7,
   "metadata": {
    "scrolled": true
   },
   "outputs": [
    {
     "data": {
      "text/plain": [
       "duration_sec               0\n",
       "start_time                 0\n",
       "end_time                   0\n",
       "start_station_id           0\n",
       "start_station_name         0\n",
       "start_station_latitude     0\n",
       "start_station_longitude    0\n",
       "end_station_id             0\n",
       "end_station_name           0\n",
       "end_station_latitude       0\n",
       "end_station_longitude      0\n",
       "bike_id                    0\n",
       "user_type                  0\n",
       "member_birth_year          0\n",
       "member_gender              0\n",
       "bike_share_for_all_trip    0\n",
       "dtype: int64"
      ]
     },
     "execution_count": 7,
     "metadata": {},
     "output_type": "execute_result"
    }
   ],
   "source": [
    "# DEFINE\n",
    "# Dropping the all rows in the dataset that contains any null value.\n",
    "\n",
    "# CODE\n",
    "df.dropna(axis=0,inplace=True)\n",
    "\n",
    "# TEST\n",
    "df.isnull().sum()"
   ]
  },
  {
   "cell_type": "markdown",
   "metadata": {},
   "source": [
    "##### Next I will create a `duration_min` column from the `duration_sec` column since minutes are the most commonly used unit of measurement for time than seconds. "
   ]
  },
  {
   "cell_type": "code",
   "execution_count": 8,
   "metadata": {},
   "outputs": [
    {
     "data": {
      "text/html": [
       "<div>\n",
       "<style scoped>\n",
       "    .dataframe tbody tr th:only-of-type {\n",
       "        vertical-align: middle;\n",
       "    }\n",
       "\n",
       "    .dataframe tbody tr th {\n",
       "        vertical-align: top;\n",
       "    }\n",
       "\n",
       "    .dataframe thead th {\n",
       "        text-align: right;\n",
       "    }\n",
       "</style>\n",
       "<table border=\"1\" class=\"dataframe\">\n",
       "  <thead>\n",
       "    <tr style=\"text-align: right;\">\n",
       "      <th></th>\n",
       "      <th>0</th>\n",
       "      <th>2</th>\n",
       "      <th>3</th>\n",
       "      <th>4</th>\n",
       "      <th>5</th>\n",
       "    </tr>\n",
       "  </thead>\n",
       "  <tbody>\n",
       "    <tr>\n",
       "      <th>duration_sec</th>\n",
       "      <td>52185</td>\n",
       "      <td>61854</td>\n",
       "      <td>36490</td>\n",
       "      <td>1585</td>\n",
       "      <td>1793</td>\n",
       "    </tr>\n",
       "    <tr>\n",
       "      <th>start_time</th>\n",
       "      <td>2019-02-28 17:32:10.1450</td>\n",
       "      <td>2019-02-28 12:13:13.2180</td>\n",
       "      <td>2019-02-28 17:54:26.0100</td>\n",
       "      <td>2019-02-28 23:54:18.5490</td>\n",
       "      <td>2019-02-28 23:49:58.6320</td>\n",
       "    </tr>\n",
       "    <tr>\n",
       "      <th>end_time</th>\n",
       "      <td>2019-03-01 08:01:55.9750</td>\n",
       "      <td>2019-03-01 05:24:08.1460</td>\n",
       "      <td>2019-03-01 04:02:36.8420</td>\n",
       "      <td>2019-03-01 00:20:44.0740</td>\n",
       "      <td>2019-03-01 00:19:51.7600</td>\n",
       "    </tr>\n",
       "    <tr>\n",
       "      <th>start_station_id</th>\n",
       "      <td>21.0</td>\n",
       "      <td>86.0</td>\n",
       "      <td>375.0</td>\n",
       "      <td>7.0</td>\n",
       "      <td>93.0</td>\n",
       "    </tr>\n",
       "    <tr>\n",
       "      <th>start_station_name</th>\n",
       "      <td>Montgomery St BART Station (Market St at 2nd St)</td>\n",
       "      <td>Market St at Dolores St</td>\n",
       "      <td>Grove St at Masonic Ave</td>\n",
       "      <td>Frank H Ogawa Plaza</td>\n",
       "      <td>4th St at Mission Bay Blvd S</td>\n",
       "    </tr>\n",
       "    <tr>\n",
       "      <th>start_station_latitude</th>\n",
       "      <td>37.789625</td>\n",
       "      <td>37.769305</td>\n",
       "      <td>37.774836</td>\n",
       "      <td>37.804562</td>\n",
       "      <td>37.770407</td>\n",
       "    </tr>\n",
       "    <tr>\n",
       "      <th>start_station_longitude</th>\n",
       "      <td>-122.400811</td>\n",
       "      <td>-122.426826</td>\n",
       "      <td>-122.446546</td>\n",
       "      <td>-122.271738</td>\n",
       "      <td>-122.391198</td>\n",
       "    </tr>\n",
       "    <tr>\n",
       "      <th>end_station_id</th>\n",
       "      <td>13.0</td>\n",
       "      <td>3.0</td>\n",
       "      <td>70.0</td>\n",
       "      <td>222.0</td>\n",
       "      <td>323.0</td>\n",
       "    </tr>\n",
       "    <tr>\n",
       "      <th>end_station_name</th>\n",
       "      <td>Commercial St at Montgomery St</td>\n",
       "      <td>Powell St BART Station (Market St at 4th St)</td>\n",
       "      <td>Central Ave at Fell St</td>\n",
       "      <td>10th Ave at E 15th St</td>\n",
       "      <td>Broadway at Kearny</td>\n",
       "    </tr>\n",
       "    <tr>\n",
       "      <th>end_station_latitude</th>\n",
       "      <td>37.794231</td>\n",
       "      <td>37.786375</td>\n",
       "      <td>37.773311</td>\n",
       "      <td>37.792714</td>\n",
       "      <td>37.798014</td>\n",
       "    </tr>\n",
       "    <tr>\n",
       "      <th>end_station_longitude</th>\n",
       "      <td>-122.402923</td>\n",
       "      <td>-122.404904</td>\n",
       "      <td>-122.444293</td>\n",
       "      <td>-122.24878</td>\n",
       "      <td>-122.40595</td>\n",
       "    </tr>\n",
       "    <tr>\n",
       "      <th>bike_id</th>\n",
       "      <td>4902</td>\n",
       "      <td>5905</td>\n",
       "      <td>6638</td>\n",
       "      <td>4898</td>\n",
       "      <td>5200</td>\n",
       "    </tr>\n",
       "    <tr>\n",
       "      <th>user_type</th>\n",
       "      <td>Customer</td>\n",
       "      <td>Customer</td>\n",
       "      <td>Subscriber</td>\n",
       "      <td>Subscriber</td>\n",
       "      <td>Subscriber</td>\n",
       "    </tr>\n",
       "    <tr>\n",
       "      <th>member_birth_year</th>\n",
       "      <td>1984.0</td>\n",
       "      <td>1972.0</td>\n",
       "      <td>1989.0</td>\n",
       "      <td>1974.0</td>\n",
       "      <td>1959.0</td>\n",
       "    </tr>\n",
       "    <tr>\n",
       "      <th>member_gender</th>\n",
       "      <td>Male</td>\n",
       "      <td>Male</td>\n",
       "      <td>Other</td>\n",
       "      <td>Male</td>\n",
       "      <td>Male</td>\n",
       "    </tr>\n",
       "    <tr>\n",
       "      <th>bike_share_for_all_trip</th>\n",
       "      <td>No</td>\n",
       "      <td>No</td>\n",
       "      <td>No</td>\n",
       "      <td>Yes</td>\n",
       "      <td>No</td>\n",
       "    </tr>\n",
       "    <tr>\n",
       "      <th>duration_min</th>\n",
       "      <td>870</td>\n",
       "      <td>1031</td>\n",
       "      <td>608</td>\n",
       "      <td>26</td>\n",
       "      <td>30</td>\n",
       "    </tr>\n",
       "  </tbody>\n",
       "</table>\n",
       "</div>"
      ],
      "text/plain": [
       "                                                                        0  \\\n",
       "duration_sec                                                        52185   \n",
       "start_time                                       2019-02-28 17:32:10.1450   \n",
       "end_time                                         2019-03-01 08:01:55.9750   \n",
       "start_station_id                                                     21.0   \n",
       "start_station_name       Montgomery St BART Station (Market St at 2nd St)   \n",
       "start_station_latitude                                          37.789625   \n",
       "start_station_longitude                                       -122.400811   \n",
       "end_station_id                                                       13.0   \n",
       "end_station_name                           Commercial St at Montgomery St   \n",
       "end_station_latitude                                            37.794231   \n",
       "end_station_longitude                                         -122.402923   \n",
       "bike_id                                                              4902   \n",
       "user_type                                                        Customer   \n",
       "member_birth_year                                                  1984.0   \n",
       "member_gender                                                        Male   \n",
       "bike_share_for_all_trip                                                No   \n",
       "duration_min                                                          870   \n",
       "\n",
       "                                                                    2  \\\n",
       "duration_sec                                                    61854   \n",
       "start_time                                   2019-02-28 12:13:13.2180   \n",
       "end_time                                     2019-03-01 05:24:08.1460   \n",
       "start_station_id                                                 86.0   \n",
       "start_station_name                            Market St at Dolores St   \n",
       "start_station_latitude                                      37.769305   \n",
       "start_station_longitude                                   -122.426826   \n",
       "end_station_id                                                    3.0   \n",
       "end_station_name         Powell St BART Station (Market St at 4th St)   \n",
       "end_station_latitude                                        37.786375   \n",
       "end_station_longitude                                     -122.404904   \n",
       "bike_id                                                          5905   \n",
       "user_type                                                    Customer   \n",
       "member_birth_year                                              1972.0   \n",
       "member_gender                                                    Male   \n",
       "bike_share_for_all_trip                                            No   \n",
       "duration_min                                                     1031   \n",
       "\n",
       "                                                3                         4  \\\n",
       "duration_sec                                36490                      1585   \n",
       "start_time               2019-02-28 17:54:26.0100  2019-02-28 23:54:18.5490   \n",
       "end_time                 2019-03-01 04:02:36.8420  2019-03-01 00:20:44.0740   \n",
       "start_station_id                            375.0                       7.0   \n",
       "start_station_name        Grove St at Masonic Ave       Frank H Ogawa Plaza   \n",
       "start_station_latitude                  37.774836                 37.804562   \n",
       "start_station_longitude               -122.446546               -122.271738   \n",
       "end_station_id                               70.0                     222.0   \n",
       "end_station_name           Central Ave at Fell St     10th Ave at E 15th St   \n",
       "end_station_latitude                    37.773311                 37.792714   \n",
       "end_station_longitude                 -122.444293                -122.24878   \n",
       "bike_id                                      6638                      4898   \n",
       "user_type                              Subscriber                Subscriber   \n",
       "member_birth_year                          1989.0                    1974.0   \n",
       "member_gender                               Other                      Male   \n",
       "bike_share_for_all_trip                        No                       Yes   \n",
       "duration_min                                  608                        26   \n",
       "\n",
       "                                                    5  \n",
       "duration_sec                                     1793  \n",
       "start_time                   2019-02-28 23:49:58.6320  \n",
       "end_time                     2019-03-01 00:19:51.7600  \n",
       "start_station_id                                 93.0  \n",
       "start_station_name       4th St at Mission Bay Blvd S  \n",
       "start_station_latitude                      37.770407  \n",
       "start_station_longitude                   -122.391198  \n",
       "end_station_id                                  323.0  \n",
       "end_station_name                   Broadway at Kearny  \n",
       "end_station_latitude                        37.798014  \n",
       "end_station_longitude                      -122.40595  \n",
       "bike_id                                          5200  \n",
       "user_type                                  Subscriber  \n",
       "member_birth_year                              1959.0  \n",
       "member_gender                                    Male  \n",
       "bike_share_for_all_trip                            No  \n",
       "duration_min                                       30  "
      ]
     },
     "execution_count": 8,
     "metadata": {},
     "output_type": "execute_result"
    }
   ],
   "source": [
    "# DEFINE\n",
    "# Creating a minute column from the seconds column\n",
    "\n",
    "# CODE\n",
    "df['duration_min'] = round(df['duration_sec']/60)\n",
    "df['duration_min'] = df['duration_min'].astype(int)\n",
    "\n",
    "# TEST\n",
    "df.head().T"
   ]
  },
  {
   "cell_type": "markdown",
   "metadata": {},
   "source": [
    "##### Next I will add a `member_age` column from the `member_birth_year` column. This will be 2019 minus the birth year, since the dataset is for the year 2019."
   ]
  },
  {
   "cell_type": "code",
   "execution_count": 9,
   "metadata": {
    "scrolled": true
   },
   "outputs": [
    {
     "data": {
      "text/html": [
       "<div>\n",
       "<style scoped>\n",
       "    .dataframe tbody tr th:only-of-type {\n",
       "        vertical-align: middle;\n",
       "    }\n",
       "\n",
       "    .dataframe tbody tr th {\n",
       "        vertical-align: top;\n",
       "    }\n",
       "\n",
       "    .dataframe thead th {\n",
       "        text-align: right;\n",
       "    }\n",
       "</style>\n",
       "<table border=\"1\" class=\"dataframe\">\n",
       "  <thead>\n",
       "    <tr style=\"text-align: right;\">\n",
       "      <th></th>\n",
       "      <th>0</th>\n",
       "      <th>2</th>\n",
       "      <th>3</th>\n",
       "      <th>4</th>\n",
       "      <th>5</th>\n",
       "    </tr>\n",
       "  </thead>\n",
       "  <tbody>\n",
       "    <tr>\n",
       "      <th>duration_sec</th>\n",
       "      <td>52185</td>\n",
       "      <td>61854</td>\n",
       "      <td>36490</td>\n",
       "      <td>1585</td>\n",
       "      <td>1793</td>\n",
       "    </tr>\n",
       "    <tr>\n",
       "      <th>start_time</th>\n",
       "      <td>2019-02-28 17:32:10.1450</td>\n",
       "      <td>2019-02-28 12:13:13.2180</td>\n",
       "      <td>2019-02-28 17:54:26.0100</td>\n",
       "      <td>2019-02-28 23:54:18.5490</td>\n",
       "      <td>2019-02-28 23:49:58.6320</td>\n",
       "    </tr>\n",
       "    <tr>\n",
       "      <th>end_time</th>\n",
       "      <td>2019-03-01 08:01:55.9750</td>\n",
       "      <td>2019-03-01 05:24:08.1460</td>\n",
       "      <td>2019-03-01 04:02:36.8420</td>\n",
       "      <td>2019-03-01 00:20:44.0740</td>\n",
       "      <td>2019-03-01 00:19:51.7600</td>\n",
       "    </tr>\n",
       "    <tr>\n",
       "      <th>start_station_id</th>\n",
       "      <td>21.0</td>\n",
       "      <td>86.0</td>\n",
       "      <td>375.0</td>\n",
       "      <td>7.0</td>\n",
       "      <td>93.0</td>\n",
       "    </tr>\n",
       "    <tr>\n",
       "      <th>start_station_name</th>\n",
       "      <td>Montgomery St BART Station (Market St at 2nd St)</td>\n",
       "      <td>Market St at Dolores St</td>\n",
       "      <td>Grove St at Masonic Ave</td>\n",
       "      <td>Frank H Ogawa Plaza</td>\n",
       "      <td>4th St at Mission Bay Blvd S</td>\n",
       "    </tr>\n",
       "    <tr>\n",
       "      <th>start_station_latitude</th>\n",
       "      <td>37.789625</td>\n",
       "      <td>37.769305</td>\n",
       "      <td>37.774836</td>\n",
       "      <td>37.804562</td>\n",
       "      <td>37.770407</td>\n",
       "    </tr>\n",
       "    <tr>\n",
       "      <th>start_station_longitude</th>\n",
       "      <td>-122.400811</td>\n",
       "      <td>-122.426826</td>\n",
       "      <td>-122.446546</td>\n",
       "      <td>-122.271738</td>\n",
       "      <td>-122.391198</td>\n",
       "    </tr>\n",
       "    <tr>\n",
       "      <th>end_station_id</th>\n",
       "      <td>13.0</td>\n",
       "      <td>3.0</td>\n",
       "      <td>70.0</td>\n",
       "      <td>222.0</td>\n",
       "      <td>323.0</td>\n",
       "    </tr>\n",
       "    <tr>\n",
       "      <th>end_station_name</th>\n",
       "      <td>Commercial St at Montgomery St</td>\n",
       "      <td>Powell St BART Station (Market St at 4th St)</td>\n",
       "      <td>Central Ave at Fell St</td>\n",
       "      <td>10th Ave at E 15th St</td>\n",
       "      <td>Broadway at Kearny</td>\n",
       "    </tr>\n",
       "    <tr>\n",
       "      <th>end_station_latitude</th>\n",
       "      <td>37.794231</td>\n",
       "      <td>37.786375</td>\n",
       "      <td>37.773311</td>\n",
       "      <td>37.792714</td>\n",
       "      <td>37.798014</td>\n",
       "    </tr>\n",
       "    <tr>\n",
       "      <th>end_station_longitude</th>\n",
       "      <td>-122.402923</td>\n",
       "      <td>-122.404904</td>\n",
       "      <td>-122.444293</td>\n",
       "      <td>-122.24878</td>\n",
       "      <td>-122.40595</td>\n",
       "    </tr>\n",
       "    <tr>\n",
       "      <th>bike_id</th>\n",
       "      <td>4902</td>\n",
       "      <td>5905</td>\n",
       "      <td>6638</td>\n",
       "      <td>4898</td>\n",
       "      <td>5200</td>\n",
       "    </tr>\n",
       "    <tr>\n",
       "      <th>user_type</th>\n",
       "      <td>Customer</td>\n",
       "      <td>Customer</td>\n",
       "      <td>Subscriber</td>\n",
       "      <td>Subscriber</td>\n",
       "      <td>Subscriber</td>\n",
       "    </tr>\n",
       "    <tr>\n",
       "      <th>member_birth_year</th>\n",
       "      <td>1984.0</td>\n",
       "      <td>1972.0</td>\n",
       "      <td>1989.0</td>\n",
       "      <td>1974.0</td>\n",
       "      <td>1959.0</td>\n",
       "    </tr>\n",
       "    <tr>\n",
       "      <th>member_gender</th>\n",
       "      <td>Male</td>\n",
       "      <td>Male</td>\n",
       "      <td>Other</td>\n",
       "      <td>Male</td>\n",
       "      <td>Male</td>\n",
       "    </tr>\n",
       "    <tr>\n",
       "      <th>bike_share_for_all_trip</th>\n",
       "      <td>No</td>\n",
       "      <td>No</td>\n",
       "      <td>No</td>\n",
       "      <td>Yes</td>\n",
       "      <td>No</td>\n",
       "    </tr>\n",
       "    <tr>\n",
       "      <th>duration_min</th>\n",
       "      <td>870</td>\n",
       "      <td>1031</td>\n",
       "      <td>608</td>\n",
       "      <td>26</td>\n",
       "      <td>30</td>\n",
       "    </tr>\n",
       "    <tr>\n",
       "      <th>member_age</th>\n",
       "      <td>35</td>\n",
       "      <td>47</td>\n",
       "      <td>30</td>\n",
       "      <td>45</td>\n",
       "      <td>60</td>\n",
       "    </tr>\n",
       "  </tbody>\n",
       "</table>\n",
       "</div>"
      ],
      "text/plain": [
       "                                                                        0  \\\n",
       "duration_sec                                                        52185   \n",
       "start_time                                       2019-02-28 17:32:10.1450   \n",
       "end_time                                         2019-03-01 08:01:55.9750   \n",
       "start_station_id                                                     21.0   \n",
       "start_station_name       Montgomery St BART Station (Market St at 2nd St)   \n",
       "start_station_latitude                                          37.789625   \n",
       "start_station_longitude                                       -122.400811   \n",
       "end_station_id                                                       13.0   \n",
       "end_station_name                           Commercial St at Montgomery St   \n",
       "end_station_latitude                                            37.794231   \n",
       "end_station_longitude                                         -122.402923   \n",
       "bike_id                                                              4902   \n",
       "user_type                                                        Customer   \n",
       "member_birth_year                                                  1984.0   \n",
       "member_gender                                                        Male   \n",
       "bike_share_for_all_trip                                                No   \n",
       "duration_min                                                          870   \n",
       "member_age                                                             35   \n",
       "\n",
       "                                                                    2  \\\n",
       "duration_sec                                                    61854   \n",
       "start_time                                   2019-02-28 12:13:13.2180   \n",
       "end_time                                     2019-03-01 05:24:08.1460   \n",
       "start_station_id                                                 86.0   \n",
       "start_station_name                            Market St at Dolores St   \n",
       "start_station_latitude                                      37.769305   \n",
       "start_station_longitude                                   -122.426826   \n",
       "end_station_id                                                    3.0   \n",
       "end_station_name         Powell St BART Station (Market St at 4th St)   \n",
       "end_station_latitude                                        37.786375   \n",
       "end_station_longitude                                     -122.404904   \n",
       "bike_id                                                          5905   \n",
       "user_type                                                    Customer   \n",
       "member_birth_year                                              1972.0   \n",
       "member_gender                                                    Male   \n",
       "bike_share_for_all_trip                                            No   \n",
       "duration_min                                                     1031   \n",
       "member_age                                                         47   \n",
       "\n",
       "                                                3                         4  \\\n",
       "duration_sec                                36490                      1585   \n",
       "start_time               2019-02-28 17:54:26.0100  2019-02-28 23:54:18.5490   \n",
       "end_time                 2019-03-01 04:02:36.8420  2019-03-01 00:20:44.0740   \n",
       "start_station_id                            375.0                       7.0   \n",
       "start_station_name        Grove St at Masonic Ave       Frank H Ogawa Plaza   \n",
       "start_station_latitude                  37.774836                 37.804562   \n",
       "start_station_longitude               -122.446546               -122.271738   \n",
       "end_station_id                               70.0                     222.0   \n",
       "end_station_name           Central Ave at Fell St     10th Ave at E 15th St   \n",
       "end_station_latitude                    37.773311                 37.792714   \n",
       "end_station_longitude                 -122.444293                -122.24878   \n",
       "bike_id                                      6638                      4898   \n",
       "user_type                              Subscriber                Subscriber   \n",
       "member_birth_year                          1989.0                    1974.0   \n",
       "member_gender                               Other                      Male   \n",
       "bike_share_for_all_trip                        No                       Yes   \n",
       "duration_min                                  608                        26   \n",
       "member_age                                     30                        45   \n",
       "\n",
       "                                                    5  \n",
       "duration_sec                                     1793  \n",
       "start_time                   2019-02-28 23:49:58.6320  \n",
       "end_time                     2019-03-01 00:19:51.7600  \n",
       "start_station_id                                 93.0  \n",
       "start_station_name       4th St at Mission Bay Blvd S  \n",
       "start_station_latitude                      37.770407  \n",
       "start_station_longitude                   -122.391198  \n",
       "end_station_id                                  323.0  \n",
       "end_station_name                   Broadway at Kearny  \n",
       "end_station_latitude                        37.798014  \n",
       "end_station_longitude                      -122.40595  \n",
       "bike_id                                          5200  \n",
       "user_type                                  Subscriber  \n",
       "member_birth_year                              1959.0  \n",
       "member_gender                                    Male  \n",
       "bike_share_for_all_trip                            No  \n",
       "duration_min                                       30  \n",
       "member_age                                         60  "
      ]
     },
     "execution_count": 9,
     "metadata": {},
     "output_type": "execute_result"
    }
   ],
   "source": [
    "# DEFINE\n",
    "# Creating age from birth year\n",
    "\n",
    "# CODE\n",
    "df['member_age'] = 2019 - df['member_birth_year']\n",
    "df['member_age'] = df['member_age'].astype(int)\n",
    "\n",
    "# TEST\n",
    "df.head().T"
   ]
  },
  {
   "cell_type": "markdown",
   "metadata": {},
   "source": [
    "##### Next I will convert `start_time` and `end_time` to a datetime object"
   ]
  },
  {
   "cell_type": "code",
   "execution_count": 10,
   "metadata": {},
   "outputs": [
    {
     "name": "stdout",
     "output_type": "stream",
     "text": [
      "<class 'pandas.core.frame.DataFrame'>\n",
      "Int64Index: 174952 entries, 0 to 183411\n",
      "Data columns (total 18 columns):\n",
      " #   Column                   Non-Null Count   Dtype         \n",
      "---  ------                   --------------   -----         \n",
      " 0   duration_sec             174952 non-null  int64         \n",
      " 1   start_time               174952 non-null  datetime64[ns]\n",
      " 2   end_time                 174952 non-null  datetime64[ns]\n",
      " 3   start_station_id         174952 non-null  float64       \n",
      " 4   start_station_name       174952 non-null  object        \n",
      " 5   start_station_latitude   174952 non-null  float64       \n",
      " 6   start_station_longitude  174952 non-null  float64       \n",
      " 7   end_station_id           174952 non-null  float64       \n",
      " 8   end_station_name         174952 non-null  object        \n",
      " 9   end_station_latitude     174952 non-null  float64       \n",
      " 10  end_station_longitude    174952 non-null  float64       \n",
      " 11  bike_id                  174952 non-null  int64         \n",
      " 12  user_type                174952 non-null  object        \n",
      " 13  member_birth_year        174952 non-null  float64       \n",
      " 14  member_gender            174952 non-null  object        \n",
      " 15  bike_share_for_all_trip  174952 non-null  object        \n",
      " 16  duration_min             174952 non-null  int32         \n",
      " 17  member_age               174952 non-null  int32         \n",
      "dtypes: datetime64[ns](2), float64(7), int32(2), int64(2), object(5)\n",
      "memory usage: 24.0+ MB\n"
     ]
    }
   ],
   "source": [
    "# DEFINE\n",
    "# Converting `start_time` and `end_time` to a datetime object\n",
    "\n",
    "# CODE\n",
    "df['start_time'] = pd.to_datetime(df['start_time'])\n",
    "df['end_time'] = pd.to_datetime(df['end_time'])\n",
    "df.info()"
   ]
  },
  {
   "cell_type": "markdown",
   "metadata": {},
   "source": [
    "##### Next I will create a `start_day` column from the `start_time` column, which denotes the day when bikes are booked and the trip started. I will not extract the `end_day` since all of the trips ends in the same day as can be seen from the `df.describe` function. (max: 23hrs - 84548sec/60/60)."
   ]
  },
  {
   "cell_type": "code",
   "execution_count": 11,
   "metadata": {
    "scrolled": false
   },
   "outputs": [
    {
     "data": {
      "text/html": [
       "<div>\n",
       "<style scoped>\n",
       "    .dataframe tbody tr th:only-of-type {\n",
       "        vertical-align: middle;\n",
       "    }\n",
       "\n",
       "    .dataframe tbody tr th {\n",
       "        vertical-align: top;\n",
       "    }\n",
       "\n",
       "    .dataframe thead th {\n",
       "        text-align: right;\n",
       "    }\n",
       "</style>\n",
       "<table border=\"1\" class=\"dataframe\">\n",
       "  <thead>\n",
       "    <tr style=\"text-align: right;\">\n",
       "      <th></th>\n",
       "      <th>0</th>\n",
       "      <th>2</th>\n",
       "      <th>3</th>\n",
       "      <th>4</th>\n",
       "      <th>5</th>\n",
       "    </tr>\n",
       "  </thead>\n",
       "  <tbody>\n",
       "    <tr>\n",
       "      <th>duration_sec</th>\n",
       "      <td>52185</td>\n",
       "      <td>61854</td>\n",
       "      <td>36490</td>\n",
       "      <td>1585</td>\n",
       "      <td>1793</td>\n",
       "    </tr>\n",
       "    <tr>\n",
       "      <th>start_time</th>\n",
       "      <td>2019-02-28 17:32:10.145000</td>\n",
       "      <td>2019-02-28 12:13:13.218000</td>\n",
       "      <td>2019-02-28 17:54:26.010000</td>\n",
       "      <td>2019-02-28 23:54:18.549000</td>\n",
       "      <td>2019-02-28 23:49:58.632000</td>\n",
       "    </tr>\n",
       "    <tr>\n",
       "      <th>end_time</th>\n",
       "      <td>2019-03-01 08:01:55.975000</td>\n",
       "      <td>2019-03-01 05:24:08.146000</td>\n",
       "      <td>2019-03-01 04:02:36.842000</td>\n",
       "      <td>2019-03-01 00:20:44.074000</td>\n",
       "      <td>2019-03-01 00:19:51.760000</td>\n",
       "    </tr>\n",
       "    <tr>\n",
       "      <th>start_station_id</th>\n",
       "      <td>21.0</td>\n",
       "      <td>86.0</td>\n",
       "      <td>375.0</td>\n",
       "      <td>7.0</td>\n",
       "      <td>93.0</td>\n",
       "    </tr>\n",
       "    <tr>\n",
       "      <th>start_station_name</th>\n",
       "      <td>Montgomery St BART Station (Market St at 2nd St)</td>\n",
       "      <td>Market St at Dolores St</td>\n",
       "      <td>Grove St at Masonic Ave</td>\n",
       "      <td>Frank H Ogawa Plaza</td>\n",
       "      <td>4th St at Mission Bay Blvd S</td>\n",
       "    </tr>\n",
       "    <tr>\n",
       "      <th>start_station_latitude</th>\n",
       "      <td>37.789625</td>\n",
       "      <td>37.769305</td>\n",
       "      <td>37.774836</td>\n",
       "      <td>37.804562</td>\n",
       "      <td>37.770407</td>\n",
       "    </tr>\n",
       "    <tr>\n",
       "      <th>start_station_longitude</th>\n",
       "      <td>-122.400811</td>\n",
       "      <td>-122.426826</td>\n",
       "      <td>-122.446546</td>\n",
       "      <td>-122.271738</td>\n",
       "      <td>-122.391198</td>\n",
       "    </tr>\n",
       "    <tr>\n",
       "      <th>end_station_id</th>\n",
       "      <td>13.0</td>\n",
       "      <td>3.0</td>\n",
       "      <td>70.0</td>\n",
       "      <td>222.0</td>\n",
       "      <td>323.0</td>\n",
       "    </tr>\n",
       "    <tr>\n",
       "      <th>end_station_name</th>\n",
       "      <td>Commercial St at Montgomery St</td>\n",
       "      <td>Powell St BART Station (Market St at 4th St)</td>\n",
       "      <td>Central Ave at Fell St</td>\n",
       "      <td>10th Ave at E 15th St</td>\n",
       "      <td>Broadway at Kearny</td>\n",
       "    </tr>\n",
       "    <tr>\n",
       "      <th>end_station_latitude</th>\n",
       "      <td>37.794231</td>\n",
       "      <td>37.786375</td>\n",
       "      <td>37.773311</td>\n",
       "      <td>37.792714</td>\n",
       "      <td>37.798014</td>\n",
       "    </tr>\n",
       "    <tr>\n",
       "      <th>end_station_longitude</th>\n",
       "      <td>-122.402923</td>\n",
       "      <td>-122.404904</td>\n",
       "      <td>-122.444293</td>\n",
       "      <td>-122.24878</td>\n",
       "      <td>-122.40595</td>\n",
       "    </tr>\n",
       "    <tr>\n",
       "      <th>bike_id</th>\n",
       "      <td>4902</td>\n",
       "      <td>5905</td>\n",
       "      <td>6638</td>\n",
       "      <td>4898</td>\n",
       "      <td>5200</td>\n",
       "    </tr>\n",
       "    <tr>\n",
       "      <th>user_type</th>\n",
       "      <td>Customer</td>\n",
       "      <td>Customer</td>\n",
       "      <td>Subscriber</td>\n",
       "      <td>Subscriber</td>\n",
       "      <td>Subscriber</td>\n",
       "    </tr>\n",
       "    <tr>\n",
       "      <th>member_birth_year</th>\n",
       "      <td>1984.0</td>\n",
       "      <td>1972.0</td>\n",
       "      <td>1989.0</td>\n",
       "      <td>1974.0</td>\n",
       "      <td>1959.0</td>\n",
       "    </tr>\n",
       "    <tr>\n",
       "      <th>member_gender</th>\n",
       "      <td>Male</td>\n",
       "      <td>Male</td>\n",
       "      <td>Other</td>\n",
       "      <td>Male</td>\n",
       "      <td>Male</td>\n",
       "    </tr>\n",
       "    <tr>\n",
       "      <th>bike_share_for_all_trip</th>\n",
       "      <td>No</td>\n",
       "      <td>No</td>\n",
       "      <td>No</td>\n",
       "      <td>Yes</td>\n",
       "      <td>No</td>\n",
       "    </tr>\n",
       "    <tr>\n",
       "      <th>duration_min</th>\n",
       "      <td>870</td>\n",
       "      <td>1031</td>\n",
       "      <td>608</td>\n",
       "      <td>26</td>\n",
       "      <td>30</td>\n",
       "    </tr>\n",
       "    <tr>\n",
       "      <th>member_age</th>\n",
       "      <td>35</td>\n",
       "      <td>47</td>\n",
       "      <td>30</td>\n",
       "      <td>45</td>\n",
       "      <td>60</td>\n",
       "    </tr>\n",
       "    <tr>\n",
       "      <th>start_day</th>\n",
       "      <td>Thursday</td>\n",
       "      <td>Thursday</td>\n",
       "      <td>Thursday</td>\n",
       "      <td>Thursday</td>\n",
       "      <td>Thursday</td>\n",
       "    </tr>\n",
       "  </tbody>\n",
       "</table>\n",
       "</div>"
      ],
      "text/plain": [
       "                                                                        0  \\\n",
       "duration_sec                                                        52185   \n",
       "start_time                                     2019-02-28 17:32:10.145000   \n",
       "end_time                                       2019-03-01 08:01:55.975000   \n",
       "start_station_id                                                     21.0   \n",
       "start_station_name       Montgomery St BART Station (Market St at 2nd St)   \n",
       "start_station_latitude                                          37.789625   \n",
       "start_station_longitude                                       -122.400811   \n",
       "end_station_id                                                       13.0   \n",
       "end_station_name                           Commercial St at Montgomery St   \n",
       "end_station_latitude                                            37.794231   \n",
       "end_station_longitude                                         -122.402923   \n",
       "bike_id                                                              4902   \n",
       "user_type                                                        Customer   \n",
       "member_birth_year                                                  1984.0   \n",
       "member_gender                                                        Male   \n",
       "bike_share_for_all_trip                                                No   \n",
       "duration_min                                                          870   \n",
       "member_age                                                             35   \n",
       "start_day                                                        Thursday   \n",
       "\n",
       "                                                                    2  \\\n",
       "duration_sec                                                    61854   \n",
       "start_time                                 2019-02-28 12:13:13.218000   \n",
       "end_time                                   2019-03-01 05:24:08.146000   \n",
       "start_station_id                                                 86.0   \n",
       "start_station_name                            Market St at Dolores St   \n",
       "start_station_latitude                                      37.769305   \n",
       "start_station_longitude                                   -122.426826   \n",
       "end_station_id                                                    3.0   \n",
       "end_station_name         Powell St BART Station (Market St at 4th St)   \n",
       "end_station_latitude                                        37.786375   \n",
       "end_station_longitude                                     -122.404904   \n",
       "bike_id                                                          5905   \n",
       "user_type                                                    Customer   \n",
       "member_birth_year                                              1972.0   \n",
       "member_gender                                                    Male   \n",
       "bike_share_for_all_trip                                            No   \n",
       "duration_min                                                     1031   \n",
       "member_age                                                         47   \n",
       "start_day                                                    Thursday   \n",
       "\n",
       "                                                  3  \\\n",
       "duration_sec                                  36490   \n",
       "start_time               2019-02-28 17:54:26.010000   \n",
       "end_time                 2019-03-01 04:02:36.842000   \n",
       "start_station_id                              375.0   \n",
       "start_station_name          Grove St at Masonic Ave   \n",
       "start_station_latitude                    37.774836   \n",
       "start_station_longitude                 -122.446546   \n",
       "end_station_id                                 70.0   \n",
       "end_station_name             Central Ave at Fell St   \n",
       "end_station_latitude                      37.773311   \n",
       "end_station_longitude                   -122.444293   \n",
       "bike_id                                        6638   \n",
       "user_type                                Subscriber   \n",
       "member_birth_year                            1989.0   \n",
       "member_gender                                 Other   \n",
       "bike_share_for_all_trip                          No   \n",
       "duration_min                                    608   \n",
       "member_age                                       30   \n",
       "start_day                                  Thursday   \n",
       "\n",
       "                                                  4  \\\n",
       "duration_sec                                   1585   \n",
       "start_time               2019-02-28 23:54:18.549000   \n",
       "end_time                 2019-03-01 00:20:44.074000   \n",
       "start_station_id                                7.0   \n",
       "start_station_name              Frank H Ogawa Plaza   \n",
       "start_station_latitude                    37.804562   \n",
       "start_station_longitude                 -122.271738   \n",
       "end_station_id                                222.0   \n",
       "end_station_name              10th Ave at E 15th St   \n",
       "end_station_latitude                      37.792714   \n",
       "end_station_longitude                    -122.24878   \n",
       "bike_id                                        4898   \n",
       "user_type                                Subscriber   \n",
       "member_birth_year                            1974.0   \n",
       "member_gender                                  Male   \n",
       "bike_share_for_all_trip                         Yes   \n",
       "duration_min                                     26   \n",
       "member_age                                       45   \n",
       "start_day                                  Thursday   \n",
       "\n",
       "                                                    5  \n",
       "duration_sec                                     1793  \n",
       "start_time                 2019-02-28 23:49:58.632000  \n",
       "end_time                   2019-03-01 00:19:51.760000  \n",
       "start_station_id                                 93.0  \n",
       "start_station_name       4th St at Mission Bay Blvd S  \n",
       "start_station_latitude                      37.770407  \n",
       "start_station_longitude                   -122.391198  \n",
       "end_station_id                                  323.0  \n",
       "end_station_name                   Broadway at Kearny  \n",
       "end_station_latitude                        37.798014  \n",
       "end_station_longitude                      -122.40595  \n",
       "bike_id                                          5200  \n",
       "user_type                                  Subscriber  \n",
       "member_birth_year                              1959.0  \n",
       "member_gender                                    Male  \n",
       "bike_share_for_all_trip                            No  \n",
       "duration_min                                       30  \n",
       "member_age                                         60  \n",
       "start_day                                    Thursday  "
      ]
     },
     "execution_count": 11,
     "metadata": {},
     "output_type": "execute_result"
    }
   ],
   "source": [
    "# DEFINE\n",
    "# Extract the day of the week from start_time and adding the `start_day` column\n",
    "\n",
    "# CODE\n",
    "df['start_day'] = pd.Series(df['start_time'].dt.day_name())\n",
    "\n",
    "# Test\n",
    "df.head().T"
   ]
  },
  {
   "cell_type": "markdown",
   "metadata": {},
   "source": [
    "##### Next, I will extract `start_hour` and `end_hour` from the `start_time` and `end_time` respectively."
   ]
  },
  {
   "cell_type": "code",
   "execution_count": 12,
   "metadata": {
    "scrolled": true
   },
   "outputs": [
    {
     "data": {
      "text/html": [
       "<div>\n",
       "<style scoped>\n",
       "    .dataframe tbody tr th:only-of-type {\n",
       "        vertical-align: middle;\n",
       "    }\n",
       "\n",
       "    .dataframe tbody tr th {\n",
       "        vertical-align: top;\n",
       "    }\n",
       "\n",
       "    .dataframe thead th {\n",
       "        text-align: right;\n",
       "    }\n",
       "</style>\n",
       "<table border=\"1\" class=\"dataframe\">\n",
       "  <thead>\n",
       "    <tr style=\"text-align: right;\">\n",
       "      <th></th>\n",
       "      <th>0</th>\n",
       "      <th>2</th>\n",
       "      <th>3</th>\n",
       "      <th>4</th>\n",
       "      <th>5</th>\n",
       "    </tr>\n",
       "  </thead>\n",
       "  <tbody>\n",
       "    <tr>\n",
       "      <th>duration_sec</th>\n",
       "      <td>52185</td>\n",
       "      <td>61854</td>\n",
       "      <td>36490</td>\n",
       "      <td>1585</td>\n",
       "      <td>1793</td>\n",
       "    </tr>\n",
       "    <tr>\n",
       "      <th>start_time</th>\n",
       "      <td>2019-02-28 17:32:10.145000</td>\n",
       "      <td>2019-02-28 12:13:13.218000</td>\n",
       "      <td>2019-02-28 17:54:26.010000</td>\n",
       "      <td>2019-02-28 23:54:18.549000</td>\n",
       "      <td>2019-02-28 23:49:58.632000</td>\n",
       "    </tr>\n",
       "    <tr>\n",
       "      <th>end_time</th>\n",
       "      <td>2019-03-01 08:01:55.975000</td>\n",
       "      <td>2019-03-01 05:24:08.146000</td>\n",
       "      <td>2019-03-01 04:02:36.842000</td>\n",
       "      <td>2019-03-01 00:20:44.074000</td>\n",
       "      <td>2019-03-01 00:19:51.760000</td>\n",
       "    </tr>\n",
       "    <tr>\n",
       "      <th>start_station_id</th>\n",
       "      <td>21.0</td>\n",
       "      <td>86.0</td>\n",
       "      <td>375.0</td>\n",
       "      <td>7.0</td>\n",
       "      <td>93.0</td>\n",
       "    </tr>\n",
       "    <tr>\n",
       "      <th>start_station_name</th>\n",
       "      <td>Montgomery St BART Station (Market St at 2nd St)</td>\n",
       "      <td>Market St at Dolores St</td>\n",
       "      <td>Grove St at Masonic Ave</td>\n",
       "      <td>Frank H Ogawa Plaza</td>\n",
       "      <td>4th St at Mission Bay Blvd S</td>\n",
       "    </tr>\n",
       "    <tr>\n",
       "      <th>start_station_latitude</th>\n",
       "      <td>37.789625</td>\n",
       "      <td>37.769305</td>\n",
       "      <td>37.774836</td>\n",
       "      <td>37.804562</td>\n",
       "      <td>37.770407</td>\n",
       "    </tr>\n",
       "    <tr>\n",
       "      <th>start_station_longitude</th>\n",
       "      <td>-122.400811</td>\n",
       "      <td>-122.426826</td>\n",
       "      <td>-122.446546</td>\n",
       "      <td>-122.271738</td>\n",
       "      <td>-122.391198</td>\n",
       "    </tr>\n",
       "    <tr>\n",
       "      <th>end_station_id</th>\n",
       "      <td>13.0</td>\n",
       "      <td>3.0</td>\n",
       "      <td>70.0</td>\n",
       "      <td>222.0</td>\n",
       "      <td>323.0</td>\n",
       "    </tr>\n",
       "    <tr>\n",
       "      <th>end_station_name</th>\n",
       "      <td>Commercial St at Montgomery St</td>\n",
       "      <td>Powell St BART Station (Market St at 4th St)</td>\n",
       "      <td>Central Ave at Fell St</td>\n",
       "      <td>10th Ave at E 15th St</td>\n",
       "      <td>Broadway at Kearny</td>\n",
       "    </tr>\n",
       "    <tr>\n",
       "      <th>end_station_latitude</th>\n",
       "      <td>37.794231</td>\n",
       "      <td>37.786375</td>\n",
       "      <td>37.773311</td>\n",
       "      <td>37.792714</td>\n",
       "      <td>37.798014</td>\n",
       "    </tr>\n",
       "    <tr>\n",
       "      <th>end_station_longitude</th>\n",
       "      <td>-122.402923</td>\n",
       "      <td>-122.404904</td>\n",
       "      <td>-122.444293</td>\n",
       "      <td>-122.24878</td>\n",
       "      <td>-122.40595</td>\n",
       "    </tr>\n",
       "    <tr>\n",
       "      <th>bike_id</th>\n",
       "      <td>4902</td>\n",
       "      <td>5905</td>\n",
       "      <td>6638</td>\n",
       "      <td>4898</td>\n",
       "      <td>5200</td>\n",
       "    </tr>\n",
       "    <tr>\n",
       "      <th>user_type</th>\n",
       "      <td>Customer</td>\n",
       "      <td>Customer</td>\n",
       "      <td>Subscriber</td>\n",
       "      <td>Subscriber</td>\n",
       "      <td>Subscriber</td>\n",
       "    </tr>\n",
       "    <tr>\n",
       "      <th>member_birth_year</th>\n",
       "      <td>1984.0</td>\n",
       "      <td>1972.0</td>\n",
       "      <td>1989.0</td>\n",
       "      <td>1974.0</td>\n",
       "      <td>1959.0</td>\n",
       "    </tr>\n",
       "    <tr>\n",
       "      <th>member_gender</th>\n",
       "      <td>Male</td>\n",
       "      <td>Male</td>\n",
       "      <td>Other</td>\n",
       "      <td>Male</td>\n",
       "      <td>Male</td>\n",
       "    </tr>\n",
       "    <tr>\n",
       "      <th>bike_share_for_all_trip</th>\n",
       "      <td>No</td>\n",
       "      <td>No</td>\n",
       "      <td>No</td>\n",
       "      <td>Yes</td>\n",
       "      <td>No</td>\n",
       "    </tr>\n",
       "    <tr>\n",
       "      <th>duration_min</th>\n",
       "      <td>870</td>\n",
       "      <td>1031</td>\n",
       "      <td>608</td>\n",
       "      <td>26</td>\n",
       "      <td>30</td>\n",
       "    </tr>\n",
       "    <tr>\n",
       "      <th>member_age</th>\n",
       "      <td>35</td>\n",
       "      <td>47</td>\n",
       "      <td>30</td>\n",
       "      <td>45</td>\n",
       "      <td>60</td>\n",
       "    </tr>\n",
       "    <tr>\n",
       "      <th>start_day</th>\n",
       "      <td>Thursday</td>\n",
       "      <td>Thursday</td>\n",
       "      <td>Thursday</td>\n",
       "      <td>Thursday</td>\n",
       "      <td>Thursday</td>\n",
       "    </tr>\n",
       "    <tr>\n",
       "      <th>start_hour</th>\n",
       "      <td>17</td>\n",
       "      <td>12</td>\n",
       "      <td>17</td>\n",
       "      <td>23</td>\n",
       "      <td>23</td>\n",
       "    </tr>\n",
       "    <tr>\n",
       "      <th>end_hour</th>\n",
       "      <td>8</td>\n",
       "      <td>5</td>\n",
       "      <td>4</td>\n",
       "      <td>0</td>\n",
       "      <td>0</td>\n",
       "    </tr>\n",
       "  </tbody>\n",
       "</table>\n",
       "</div>"
      ],
      "text/plain": [
       "                                                                        0  \\\n",
       "duration_sec                                                        52185   \n",
       "start_time                                     2019-02-28 17:32:10.145000   \n",
       "end_time                                       2019-03-01 08:01:55.975000   \n",
       "start_station_id                                                     21.0   \n",
       "start_station_name       Montgomery St BART Station (Market St at 2nd St)   \n",
       "start_station_latitude                                          37.789625   \n",
       "start_station_longitude                                       -122.400811   \n",
       "end_station_id                                                       13.0   \n",
       "end_station_name                           Commercial St at Montgomery St   \n",
       "end_station_latitude                                            37.794231   \n",
       "end_station_longitude                                         -122.402923   \n",
       "bike_id                                                              4902   \n",
       "user_type                                                        Customer   \n",
       "member_birth_year                                                  1984.0   \n",
       "member_gender                                                        Male   \n",
       "bike_share_for_all_trip                                                No   \n",
       "duration_min                                                          870   \n",
       "member_age                                                             35   \n",
       "start_day                                                        Thursday   \n",
       "start_hour                                                             17   \n",
       "end_hour                                                                8   \n",
       "\n",
       "                                                                    2  \\\n",
       "duration_sec                                                    61854   \n",
       "start_time                                 2019-02-28 12:13:13.218000   \n",
       "end_time                                   2019-03-01 05:24:08.146000   \n",
       "start_station_id                                                 86.0   \n",
       "start_station_name                            Market St at Dolores St   \n",
       "start_station_latitude                                      37.769305   \n",
       "start_station_longitude                                   -122.426826   \n",
       "end_station_id                                                    3.0   \n",
       "end_station_name         Powell St BART Station (Market St at 4th St)   \n",
       "end_station_latitude                                        37.786375   \n",
       "end_station_longitude                                     -122.404904   \n",
       "bike_id                                                          5905   \n",
       "user_type                                                    Customer   \n",
       "member_birth_year                                              1972.0   \n",
       "member_gender                                                    Male   \n",
       "bike_share_for_all_trip                                            No   \n",
       "duration_min                                                     1031   \n",
       "member_age                                                         47   \n",
       "start_day                                                    Thursday   \n",
       "start_hour                                                         12   \n",
       "end_hour                                                            5   \n",
       "\n",
       "                                                  3  \\\n",
       "duration_sec                                  36490   \n",
       "start_time               2019-02-28 17:54:26.010000   \n",
       "end_time                 2019-03-01 04:02:36.842000   \n",
       "start_station_id                              375.0   \n",
       "start_station_name          Grove St at Masonic Ave   \n",
       "start_station_latitude                    37.774836   \n",
       "start_station_longitude                 -122.446546   \n",
       "end_station_id                                 70.0   \n",
       "end_station_name             Central Ave at Fell St   \n",
       "end_station_latitude                      37.773311   \n",
       "end_station_longitude                   -122.444293   \n",
       "bike_id                                        6638   \n",
       "user_type                                Subscriber   \n",
       "member_birth_year                            1989.0   \n",
       "member_gender                                 Other   \n",
       "bike_share_for_all_trip                          No   \n",
       "duration_min                                    608   \n",
       "member_age                                       30   \n",
       "start_day                                  Thursday   \n",
       "start_hour                                       17   \n",
       "end_hour                                          4   \n",
       "\n",
       "                                                  4  \\\n",
       "duration_sec                                   1585   \n",
       "start_time               2019-02-28 23:54:18.549000   \n",
       "end_time                 2019-03-01 00:20:44.074000   \n",
       "start_station_id                                7.0   \n",
       "start_station_name              Frank H Ogawa Plaza   \n",
       "start_station_latitude                    37.804562   \n",
       "start_station_longitude                 -122.271738   \n",
       "end_station_id                                222.0   \n",
       "end_station_name              10th Ave at E 15th St   \n",
       "end_station_latitude                      37.792714   \n",
       "end_station_longitude                    -122.24878   \n",
       "bike_id                                        4898   \n",
       "user_type                                Subscriber   \n",
       "member_birth_year                            1974.0   \n",
       "member_gender                                  Male   \n",
       "bike_share_for_all_trip                         Yes   \n",
       "duration_min                                     26   \n",
       "member_age                                       45   \n",
       "start_day                                  Thursday   \n",
       "start_hour                                       23   \n",
       "end_hour                                          0   \n",
       "\n",
       "                                                    5  \n",
       "duration_sec                                     1793  \n",
       "start_time                 2019-02-28 23:49:58.632000  \n",
       "end_time                   2019-03-01 00:19:51.760000  \n",
       "start_station_id                                 93.0  \n",
       "start_station_name       4th St at Mission Bay Blvd S  \n",
       "start_station_latitude                      37.770407  \n",
       "start_station_longitude                   -122.391198  \n",
       "end_station_id                                  323.0  \n",
       "end_station_name                   Broadway at Kearny  \n",
       "end_station_latitude                        37.798014  \n",
       "end_station_longitude                      -122.40595  \n",
       "bike_id                                          5200  \n",
       "user_type                                  Subscriber  \n",
       "member_birth_year                              1959.0  \n",
       "member_gender                                    Male  \n",
       "bike_share_for_all_trip                            No  \n",
       "duration_min                                       30  \n",
       "member_age                                         60  \n",
       "start_day                                    Thursday  \n",
       "start_hour                                         23  \n",
       "end_hour                                            0  "
      ]
     },
     "execution_count": 12,
     "metadata": {},
     "output_type": "execute_result"
    }
   ],
   "source": [
    "# DEFINE\n",
    "# Extracting start and end hours\n",
    "\n",
    "# CODE\n",
    "df['start_hour'] = df['start_time'].dt.hour\n",
    "df['end_hour'] = df['end_time'].dt.hour\n",
    "\n",
    "# TEST\n",
    "df.head().T"
   ]
  },
  {
   "cell_type": "code",
   "execution_count": 54,
   "metadata": {},
   "outputs": [
    {
     "data": {
      "text/plain": [
       "count    174952.000000\n",
       "mean         34.125086\n",
       "std           9.872319\n",
       "min          18.000000\n",
       "25%          27.000000\n",
       "50%          32.000000\n",
       "75%          39.000000\n",
       "max          80.000000\n",
       "Name: member_age, dtype: float64"
      ]
     },
     "execution_count": 54,
     "metadata": {},
     "output_type": "execute_result"
    }
   ],
   "source": [
    "df['member_age'].describe()"
   ]
  },
  {
   "cell_type": "markdown",
   "metadata": {},
   "source": [
    "##### We can see that there are some invalid data in the `member_age` column as we can see that the highest age is 141 years. This might be due to errors at during subscriber registrations. So I will replace all the riders with over 80 years with the mean age."
   ]
  },
  {
   "cell_type": "code",
   "execution_count": 14,
   "metadata": {
    "scrolled": true
   },
   "outputs": [
    {
     "name": "stdout",
     "output_type": "stream",
     "text": [
      "0\n"
     ]
    },
    {
     "data": {
      "text/html": [
       "<div>\n",
       "<style scoped>\n",
       "    .dataframe tbody tr th:only-of-type {\n",
       "        vertical-align: middle;\n",
       "    }\n",
       "\n",
       "    .dataframe tbody tr th {\n",
       "        vertical-align: top;\n",
       "    }\n",
       "\n",
       "    .dataframe thead th {\n",
       "        text-align: right;\n",
       "    }\n",
       "</style>\n",
       "<table border=\"1\" class=\"dataframe\">\n",
       "  <thead>\n",
       "    <tr style=\"text-align: right;\">\n",
       "      <th></th>\n",
       "      <th>duration_sec</th>\n",
       "      <th>start_station_id</th>\n",
       "      <th>start_station_latitude</th>\n",
       "      <th>start_station_longitude</th>\n",
       "      <th>end_station_id</th>\n",
       "      <th>end_station_latitude</th>\n",
       "      <th>end_station_longitude</th>\n",
       "      <th>bike_id</th>\n",
       "      <th>member_birth_year</th>\n",
       "      <th>duration_min</th>\n",
       "      <th>member_age</th>\n",
       "      <th>start_hour</th>\n",
       "      <th>end_hour</th>\n",
       "    </tr>\n",
       "  </thead>\n",
       "  <tbody>\n",
       "    <tr>\n",
       "      <th>count</th>\n",
       "      <td>174952.000000</td>\n",
       "      <td>174952.000000</td>\n",
       "      <td>174952.000000</td>\n",
       "      <td>174952.000000</td>\n",
       "      <td>174952.000000</td>\n",
       "      <td>174952.000000</td>\n",
       "      <td>174952.000000</td>\n",
       "      <td>174952.000000</td>\n",
       "      <td>174952.000000</td>\n",
       "      <td>174952.000000</td>\n",
       "      <td>174952.000000</td>\n",
       "      <td>174952.000000</td>\n",
       "      <td>174952.000000</td>\n",
       "    </tr>\n",
       "    <tr>\n",
       "      <th>mean</th>\n",
       "      <td>704.002744</td>\n",
       "      <td>139.002126</td>\n",
       "      <td>37.771220</td>\n",
       "      <td>-122.351760</td>\n",
       "      <td>136.604486</td>\n",
       "      <td>37.771414</td>\n",
       "      <td>-122.351335</td>\n",
       "      <td>4482.587555</td>\n",
       "      <td>1984.803135</td>\n",
       "      <td>11.733224</td>\n",
       "      <td>34.125086</td>\n",
       "      <td>13.456165</td>\n",
       "      <td>13.609533</td>\n",
       "    </tr>\n",
       "    <tr>\n",
       "      <th>std</th>\n",
       "      <td>1642.204905</td>\n",
       "      <td>111.648819</td>\n",
       "      <td>0.100391</td>\n",
       "      <td>0.117732</td>\n",
       "      <td>111.335635</td>\n",
       "      <td>0.100295</td>\n",
       "      <td>0.117294</td>\n",
       "      <td>1659.195937</td>\n",
       "      <td>10.118731</td>\n",
       "      <td>27.372059</td>\n",
       "      <td>9.872319</td>\n",
       "      <td>4.734282</td>\n",
       "      <td>4.748029</td>\n",
       "    </tr>\n",
       "    <tr>\n",
       "      <th>min</th>\n",
       "      <td>61.000000</td>\n",
       "      <td>3.000000</td>\n",
       "      <td>37.317298</td>\n",
       "      <td>-122.453704</td>\n",
       "      <td>3.000000</td>\n",
       "      <td>37.317298</td>\n",
       "      <td>-122.453704</td>\n",
       "      <td>11.000000</td>\n",
       "      <td>1878.000000</td>\n",
       "      <td>1.000000</td>\n",
       "      <td>18.000000</td>\n",
       "      <td>0.000000</td>\n",
       "      <td>0.000000</td>\n",
       "    </tr>\n",
       "    <tr>\n",
       "      <th>25%</th>\n",
       "      <td>323.000000</td>\n",
       "      <td>47.000000</td>\n",
       "      <td>37.770407</td>\n",
       "      <td>-122.411901</td>\n",
       "      <td>44.000000</td>\n",
       "      <td>37.770407</td>\n",
       "      <td>-122.411647</td>\n",
       "      <td>3799.000000</td>\n",
       "      <td>1980.000000</td>\n",
       "      <td>5.000000</td>\n",
       "      <td>27.000000</td>\n",
       "      <td>9.000000</td>\n",
       "      <td>9.000000</td>\n",
       "    </tr>\n",
       "    <tr>\n",
       "      <th>50%</th>\n",
       "      <td>510.000000</td>\n",
       "      <td>104.000000</td>\n",
       "      <td>37.780760</td>\n",
       "      <td>-122.398279</td>\n",
       "      <td>101.000000</td>\n",
       "      <td>37.781010</td>\n",
       "      <td>-122.397437</td>\n",
       "      <td>4960.000000</td>\n",
       "      <td>1987.000000</td>\n",
       "      <td>8.000000</td>\n",
       "      <td>32.000000</td>\n",
       "      <td>14.000000</td>\n",
       "      <td>14.000000</td>\n",
       "    </tr>\n",
       "    <tr>\n",
       "      <th>75%</th>\n",
       "      <td>789.000000</td>\n",
       "      <td>239.000000</td>\n",
       "      <td>37.797320</td>\n",
       "      <td>-122.283093</td>\n",
       "      <td>238.000000</td>\n",
       "      <td>37.797673</td>\n",
       "      <td>-122.286533</td>\n",
       "      <td>5505.000000</td>\n",
       "      <td>1992.000000</td>\n",
       "      <td>13.000000</td>\n",
       "      <td>39.000000</td>\n",
       "      <td>17.000000</td>\n",
       "      <td>18.000000</td>\n",
       "    </tr>\n",
       "    <tr>\n",
       "      <th>max</th>\n",
       "      <td>84548.000000</td>\n",
       "      <td>398.000000</td>\n",
       "      <td>37.880222</td>\n",
       "      <td>-121.874119</td>\n",
       "      <td>398.000000</td>\n",
       "      <td>37.880222</td>\n",
       "      <td>-121.874119</td>\n",
       "      <td>6645.000000</td>\n",
       "      <td>2001.000000</td>\n",
       "      <td>1409.000000</td>\n",
       "      <td>80.000000</td>\n",
       "      <td>23.000000</td>\n",
       "      <td>23.000000</td>\n",
       "    </tr>\n",
       "  </tbody>\n",
       "</table>\n",
       "</div>"
      ],
      "text/plain": [
       "        duration_sec  start_station_id  start_station_latitude  \\\n",
       "count  174952.000000     174952.000000           174952.000000   \n",
       "mean      704.002744        139.002126               37.771220   \n",
       "std      1642.204905        111.648819                0.100391   \n",
       "min        61.000000          3.000000               37.317298   \n",
       "25%       323.000000         47.000000               37.770407   \n",
       "50%       510.000000        104.000000               37.780760   \n",
       "75%       789.000000        239.000000               37.797320   \n",
       "max     84548.000000        398.000000               37.880222   \n",
       "\n",
       "       start_station_longitude  end_station_id  end_station_latitude  \\\n",
       "count            174952.000000   174952.000000         174952.000000   \n",
       "mean               -122.351760      136.604486             37.771414   \n",
       "std                   0.117732      111.335635              0.100295   \n",
       "min                -122.453704        3.000000             37.317298   \n",
       "25%                -122.411901       44.000000             37.770407   \n",
       "50%                -122.398279      101.000000             37.781010   \n",
       "75%                -122.283093      238.000000             37.797673   \n",
       "max                -121.874119      398.000000             37.880222   \n",
       "\n",
       "       end_station_longitude        bike_id  member_birth_year   duration_min  \\\n",
       "count          174952.000000  174952.000000      174952.000000  174952.000000   \n",
       "mean             -122.351335    4482.587555        1984.803135      11.733224   \n",
       "std                 0.117294    1659.195937          10.118731      27.372059   \n",
       "min              -122.453704      11.000000        1878.000000       1.000000   \n",
       "25%              -122.411647    3799.000000        1980.000000       5.000000   \n",
       "50%              -122.397437    4960.000000        1987.000000       8.000000   \n",
       "75%              -122.286533    5505.000000        1992.000000      13.000000   \n",
       "max              -121.874119    6645.000000        2001.000000    1409.000000   \n",
       "\n",
       "          member_age     start_hour       end_hour  \n",
       "count  174952.000000  174952.000000  174952.000000  \n",
       "mean       34.125086      13.456165      13.609533  \n",
       "std         9.872319       4.734282       4.748029  \n",
       "min        18.000000       0.000000       0.000000  \n",
       "25%        27.000000       9.000000       9.000000  \n",
       "50%        32.000000      14.000000      14.000000  \n",
       "75%        39.000000      17.000000      18.000000  \n",
       "max        80.000000      23.000000      23.000000  "
      ]
     },
     "execution_count": 14,
     "metadata": {},
     "output_type": "execute_result"
    }
   ],
   "source": [
    "# DEFINE\n",
    "# Imputing  80+ years rides with the mean age.\n",
    "\n",
    "# CODE\n",
    "df['member_age'].values[df['member_age'] > 80] = df['member_age'].mean()\n",
    "\n",
    "# TEST\n",
    "print((df['member_age'] > 80).sum())\n",
    "df.describe()"
   ]
  },
  {
   "cell_type": "markdown",
   "metadata": {},
   "source": [
    "##### Finally, I will drop the columns that I do not intend to use in my project."
   ]
  },
  {
   "cell_type": "code",
   "execution_count": 15,
   "metadata": {
    "scrolled": true
   },
   "outputs": [
    {
     "data": {
      "text/html": [
       "<div>\n",
       "<style scoped>\n",
       "    .dataframe tbody tr th:only-of-type {\n",
       "        vertical-align: middle;\n",
       "    }\n",
       "\n",
       "    .dataframe tbody tr th {\n",
       "        vertical-align: top;\n",
       "    }\n",
       "\n",
       "    .dataframe thead th {\n",
       "        text-align: right;\n",
       "    }\n",
       "</style>\n",
       "<table border=\"1\" class=\"dataframe\">\n",
       "  <thead>\n",
       "    <tr style=\"text-align: right;\">\n",
       "      <th></th>\n",
       "      <th>0</th>\n",
       "      <th>2</th>\n",
       "      <th>3</th>\n",
       "      <th>4</th>\n",
       "      <th>5</th>\n",
       "    </tr>\n",
       "  </thead>\n",
       "  <tbody>\n",
       "    <tr>\n",
       "      <th>start_station_name</th>\n",
       "      <td>Montgomery St BART Station (Market St at 2nd St)</td>\n",
       "      <td>Market St at Dolores St</td>\n",
       "      <td>Grove St at Masonic Ave</td>\n",
       "      <td>Frank H Ogawa Plaza</td>\n",
       "      <td>4th St at Mission Bay Blvd S</td>\n",
       "    </tr>\n",
       "    <tr>\n",
       "      <th>end_station_name</th>\n",
       "      <td>Commercial St at Montgomery St</td>\n",
       "      <td>Powell St BART Station (Market St at 4th St)</td>\n",
       "      <td>Central Ave at Fell St</td>\n",
       "      <td>10th Ave at E 15th St</td>\n",
       "      <td>Broadway at Kearny</td>\n",
       "    </tr>\n",
       "    <tr>\n",
       "      <th>user_type</th>\n",
       "      <td>Customer</td>\n",
       "      <td>Customer</td>\n",
       "      <td>Subscriber</td>\n",
       "      <td>Subscriber</td>\n",
       "      <td>Subscriber</td>\n",
       "    </tr>\n",
       "    <tr>\n",
       "      <th>member_gender</th>\n",
       "      <td>Male</td>\n",
       "      <td>Male</td>\n",
       "      <td>Other</td>\n",
       "      <td>Male</td>\n",
       "      <td>Male</td>\n",
       "    </tr>\n",
       "    <tr>\n",
       "      <th>bike_share_for_all_trip</th>\n",
       "      <td>No</td>\n",
       "      <td>No</td>\n",
       "      <td>No</td>\n",
       "      <td>Yes</td>\n",
       "      <td>No</td>\n",
       "    </tr>\n",
       "    <tr>\n",
       "      <th>duration_min</th>\n",
       "      <td>870</td>\n",
       "      <td>1031</td>\n",
       "      <td>608</td>\n",
       "      <td>26</td>\n",
       "      <td>30</td>\n",
       "    </tr>\n",
       "    <tr>\n",
       "      <th>member_age</th>\n",
       "      <td>35</td>\n",
       "      <td>47</td>\n",
       "      <td>30</td>\n",
       "      <td>45</td>\n",
       "      <td>60</td>\n",
       "    </tr>\n",
       "    <tr>\n",
       "      <th>start_day</th>\n",
       "      <td>Thursday</td>\n",
       "      <td>Thursday</td>\n",
       "      <td>Thursday</td>\n",
       "      <td>Thursday</td>\n",
       "      <td>Thursday</td>\n",
       "    </tr>\n",
       "    <tr>\n",
       "      <th>start_hour</th>\n",
       "      <td>17</td>\n",
       "      <td>12</td>\n",
       "      <td>17</td>\n",
       "      <td>23</td>\n",
       "      <td>23</td>\n",
       "    </tr>\n",
       "    <tr>\n",
       "      <th>end_hour</th>\n",
       "      <td>8</td>\n",
       "      <td>5</td>\n",
       "      <td>4</td>\n",
       "      <td>0</td>\n",
       "      <td>0</td>\n",
       "    </tr>\n",
       "  </tbody>\n",
       "</table>\n",
       "</div>"
      ],
      "text/plain": [
       "                                                                        0  \\\n",
       "start_station_name       Montgomery St BART Station (Market St at 2nd St)   \n",
       "end_station_name                           Commercial St at Montgomery St   \n",
       "user_type                                                        Customer   \n",
       "member_gender                                                        Male   \n",
       "bike_share_for_all_trip                                                No   \n",
       "duration_min                                                          870   \n",
       "member_age                                                             35   \n",
       "start_day                                                        Thursday   \n",
       "start_hour                                                             17   \n",
       "end_hour                                                                8   \n",
       "\n",
       "                                                                    2  \\\n",
       "start_station_name                            Market St at Dolores St   \n",
       "end_station_name         Powell St BART Station (Market St at 4th St)   \n",
       "user_type                                                    Customer   \n",
       "member_gender                                                    Male   \n",
       "bike_share_for_all_trip                                            No   \n",
       "duration_min                                                     1031   \n",
       "member_age                                                         47   \n",
       "start_day                                                    Thursday   \n",
       "start_hour                                                         12   \n",
       "end_hour                                                            5   \n",
       "\n",
       "                                               3                      4  \\\n",
       "start_station_name       Grove St at Masonic Ave    Frank H Ogawa Plaza   \n",
       "end_station_name          Central Ave at Fell St  10th Ave at E 15th St   \n",
       "user_type                             Subscriber             Subscriber   \n",
       "member_gender                              Other                   Male   \n",
       "bike_share_for_all_trip                       No                    Yes   \n",
       "duration_min                                 608                     26   \n",
       "member_age                                    30                     45   \n",
       "start_day                               Thursday               Thursday   \n",
       "start_hour                                    17                     23   \n",
       "end_hour                                       4                      0   \n",
       "\n",
       "                                                    5  \n",
       "start_station_name       4th St at Mission Bay Blvd S  \n",
       "end_station_name                   Broadway at Kearny  \n",
       "user_type                                  Subscriber  \n",
       "member_gender                                    Male  \n",
       "bike_share_for_all_trip                            No  \n",
       "duration_min                                       30  \n",
       "member_age                                         60  \n",
       "start_day                                    Thursday  \n",
       "start_hour                                         23  \n",
       "end_hour                                            0  "
      ]
     },
     "execution_count": 15,
     "metadata": {},
     "output_type": "execute_result"
    }
   ],
   "source": [
    "# DEFINE\n",
    "# Dropping unwanted columns\n",
    "\n",
    "# CODE\n",
    "df.drop(['duration_sec', 'start_time', 'end_time', 'start_station_id', 'start_station_latitude', 'start_station_longitude', 'end_station_id', 'end_station_latitude', 'end_station_longitude', 'bike_id', 'member_birth_year'], inplace = True, axis=1)\n",
    "\n",
    "# TEST\n",
    "df.head().T"
   ]
  },
  {
   "cell_type": "markdown",
   "metadata": {},
   "source": [
    "# 1. Univariate Exploration"
   ]
  },
  {
   "cell_type": "markdown",
   "metadata": {},
   "source": [
    "### Function to reduce repetitive code\n",
    "Before I can start with my my visualizations i will have to create a fuction to reduce repetitive code for plotting visuals"
   ]
  },
  {
   "cell_type": "code",
   "execution_count": 16,
   "metadata": {},
   "outputs": [],
   "source": [
    "# Creating the function for plotting charts\n",
    "def plotVisual(x_label, y_label, chart_title) :\n",
    "    plt.xlabel(x_label)\n",
    "    plt.ylabel(y_label)\n",
    "    plt.title(chart_title)\n",
    "    plt.figure(figsize = (12,8))\n",
    "    plt.show()"
   ]
  },
  {
   "cell_type": "markdown",
   "metadata": {},
   "source": [
    "### Question\n",
    "#### What is the gender proportions of the people who used the bike sharing system?"
   ]
  },
  {
   "cell_type": "code",
   "execution_count": 55,
   "metadata": {
    "scrolled": true
   },
   "outputs": [
    {
     "data": {
      "image/png": "[encoded data removed]",
      "text/plain": [
       "<Figure size 432x288 with 1 Axes>"
      ]
     },
     "metadata": {},
     "output_type": "display_data"
    }
   ],
   "source": [
    "# VISUALIZATION\n",
    "plt.pie(df['member_gender'].value_counts(), labels = ['Male','Female','Other'], autopct = '%1.1f%%');\n",
    "plt.title('Riders gender distribution');"
   ]
  },
  {
   "cell_type": "markdown",
   "metadata": {},
   "source": [
    "### Observation\n",
    "From the above visualizations it is clear that most of the users were men with 23% of them being females and very little amount of them with undisclosed genders. "
   ]
  },
  {
   "cell_type": "markdown",
   "metadata": {},
   "source": [
    "### Question\n",
    "#### Which type of users partook most in the trips?"
   ]
  },
  {
   "cell_type": "code",
   "execution_count": 18,
   "metadata": {},
   "outputs": [
    {
     "data": {
      "image/png": "[encoded data removed]",
      "text/plain": [
       "<Figure size 432x288 with 1 Axes>"
      ]
     },
     "metadata": {
      "needs_background": "light"
     },
     "output_type": "display_data"
    },
    {
     "data": {
      "text/plain": [
       "<Figure size 864x576 with 0 Axes>"
      ]
     },
     "metadata": {},
     "output_type": "display_data"
    }
   ],
   "source": [
    "# VISUALIZATION\n",
    "sb.countplot(data = df, x = 'user_type', order = df['user_type'].value_counts().index, color = 'b');\n",
    "plotVisual('User Type', 'No. of Trips', 'Subscriber vs Customer trips');"
   ]
  },
  {
   "cell_type": "markdown",
   "metadata": {},
   "source": [
    "### Observation\n",
    "From the visualization we can observe that most of the trips were taken by subscribers which are close to 16000 and those of customers are only close to 2000."
   ]
  },
  {
   "cell_type": "markdown",
   "metadata": {},
   "source": [
    "### Question\n",
    "#### What is the age distribution of the users?"
   ]
  },
  {
   "cell_type": "code",
   "execution_count": 19,
   "metadata": {},
   "outputs": [
    {
     "data": {
      "image/png": "[encoded data removed]",
      "text/plain": [
       "<Figure size 432x288 with 1 Axes>"
      ]
     },
     "metadata": {
      "needs_background": "light"
     },
     "output_type": "display_data"
    },
    {
     "data": {
      "text/plain": [
       "<Figure size 864x576 with 0 Axes>"
      ]
     },
     "metadata": {},
     "output_type": "display_data"
    }
   ],
   "source": [
    "# VISUALIZATION\n",
    "bins = np.arange(0, df['member_age'].max(), 5)\n",
    "sb.histplot(df['member_age'], bins = bins, color = 'b');\n",
    "plotVisual('Member age', 'No. of Trips', 'Members age distribution')"
   ]
  },
  {
   "cell_type": "markdown",
   "metadata": {},
   "source": [
    "### Observation\n",
    "From the histogram, we can see that the highest number of the people who used the bike sharing system are between 25 and 35 years."
   ]
  },
  {
   "cell_type": "markdown",
   "metadata": {},
   "source": [
    "### Question\n",
    "#### What is the distribution of trips over the days of the week?"
   ]
  },
  {
   "cell_type": "code",
   "execution_count": 20,
   "metadata": {},
   "outputs": [
    {
     "data": {
      "image/png": "[encoded data removed]",
      "text/plain": [
       "<Figure size 432x288 with 1 Axes>"
      ]
     },
     "metadata": {
      "needs_background": "light"
     },
     "output_type": "display_data"
    },
    {
     "data": {
      "text/plain": [
       "<Figure size 864x576 with 0 Axes>"
      ]
     },
     "metadata": {},
     "output_type": "display_data"
    }
   ],
   "source": [
    "# VISUALIZATION\n",
    "order_of_days =  ['Monday','Tuesday','Wednesday','Thursday','Friday','Saturday','Sunday']\n",
    "sb.countplot( data = df, x = 'start_day', color='b', order = order_of_days)\n",
    "plt.xticks(rotation = 45)\n",
    "plotVisual('Day of the week', 'No. of Trips', 'Days of the week trips frequency')"
   ]
  },
  {
   "cell_type": "markdown",
   "metadata": {},
   "source": [
    "### Observation\n",
    "From the visualization we can see that most of the trips occurred during the weekdays than the weekends. This is expected as weekdays has more activity than weekends, people going to school, work e.t.c"
   ]
  },
  {
   "cell_type": "markdown",
   "metadata": {},
   "source": [
    "### Question\n",
    "#### What is the distribution of the trips' duration?"
   ]
  },
  {
   "cell_type": "code",
   "execution_count": 21,
   "metadata": {},
   "outputs": [
    {
     "data": {
      "image/png": "[encoded data removed]",
      "text/plain": [
       "<Figure size 432x288 with 1 Axes>"
      ]
     },
     "metadata": {
      "needs_background": "light"
     },
     "output_type": "display_data"
    },
    {
     "data": {
      "text/plain": [
       "<Figure size 864x576 with 0 Axes>"
      ]
     },
     "metadata": {},
     "output_type": "display_data"
    }
   ],
   "source": [
    "# VISUALIZATION\n",
    "ticks = list(range(35)) # Limiting the duration to 35 mins to remove outliers\n",
    "bins = np.arange(0, df['duration_min'].max()+5)\n",
    "sb.histplot(df['duration_min'], bins = bins, color = 'b', kde=False);\n",
    "plt.xlim((0, 35));\n",
    "plt.xticks(ticks[::5])\n",
    "plotVisual('Trip Duration (min)', 'No. of Trips', 'Distribution of trip durations')"
   ]
  },
  {
   "cell_type": "markdown",
   "metadata": {},
   "source": [
    "### Observation\n",
    "Most trips were between 4 and 9 minutes long."
   ]
  },
  {
   "cell_type": "markdown",
   "metadata": {},
   "source": [
    "### Question\n",
    "#### How are the trips distributed throughout the hours of the day?"
   ]
  },
  {
   "cell_type": "code",
   "execution_count": 22,
   "metadata": {},
   "outputs": [
    {
     "data": {
      "image/png": "[encoded data removed]",
      "text/plain": [
       "<Figure size 432x288 with 1 Axes>"
      ]
     },
     "metadata": {
      "needs_background": "light"
     },
     "output_type": "display_data"
    },
    {
     "data": {
      "text/plain": [
       "<Figure size 864x576 with 0 Axes>"
      ]
     },
     "metadata": {},
     "output_type": "display_data"
    }
   ],
   "source": [
    "# VISUALIZATION\n",
    "sb.countplot( data = df , x = 'start_hour', color = 'b' )\n",
    "plotVisual('Hour of the day', 'No. of trips', 'Hourly trip distribution')"
   ]
  },
  {
   "cell_type": "markdown",
   "metadata": {},
   "source": [
    "### Observation\n",
    "The hourly distribution is bimodal, the rush hours of 8am and 5pm having the highest number of trips, which is as I expected since highest movements occurs when people are going to and from work."
   ]
  },
  {
   "cell_type": "markdown",
   "metadata": {},
   "source": [
    "### Question\n",
    "#### When do trips end during the hours of the day?"
   ]
  },
  {
   "cell_type": "code",
   "execution_count": 23,
   "metadata": {},
   "outputs": [
    {
     "data": {
      "image/png": "[encoded data removed]",
      "text/plain": [
       "<Figure size 432x288 with 1 Axes>"
      ]
     },
     "metadata": {
      "needs_background": "light"
     },
     "output_type": "display_data"
    },
    {
     "data": {
      "text/plain": [
       "<Figure size 864x576 with 0 Axes>"
      ]
     },
     "metadata": {},
     "output_type": "display_data"
    }
   ],
   "source": [
    "# VISUALIZATION\n",
    "sb.countplot( data = df , x = 'end_hour', color = 'b' )\n",
    "plotVisual('Hour of the day', 'No. of trips', 'Hourly trip distribution')"
   ]
  },
  {
   "cell_type": "markdown",
   "metadata": {},
   "source": [
    "### Observation\n",
    "The hourly distribution for trip endings is similar to the start hour since more than 95% of trips take less than an hour."
   ]
  },
  {
   "cell_type": "markdown",
   "metadata": {},
   "source": [
    "### Question\n",
    "#### How are the trips distributed throughout the hours of the weekdays?"
   ]
  },
  {
   "cell_type": "code",
   "execution_count": 24,
   "metadata": {},
   "outputs": [
    {
     "data": {
      "image/png": "[encoded data removed]",
      "text/plain": [
       "<Figure size 432x288 with 1 Axes>"
      ]
     },
     "metadata": {
      "needs_background": "light"
     },
     "output_type": "display_data"
    },
    {
     "data": {
      "text/plain": [
       "<Figure size 864x576 with 0 Axes>"
      ]
     },
     "metadata": {},
     "output_type": "display_data"
    }
   ],
   "source": [
    "# VISUALIZATION\n",
    "sb.countplot(data=df.query('start_day != \"Saturday\" or start_day != \"Sunday\"'), x='start_hour', color='b');\n",
    "plotVisual('Hour of the day', 'No. of trips', 'Weekdays Hourly Trip Distribution')"
   ]
  },
  {
   "cell_type": "markdown",
   "metadata": {},
   "source": [
    "### Observation\n",
    "The hourly distribution for weekdays is similar to that of the whole dataset since most of the trips are taken during the weekdays."
   ]
  },
  {
   "cell_type": "markdown",
   "metadata": {},
   "source": [
    "### Question\n",
    "#### How are the trips distributed throughout the hours of the weekend?"
   ]
  },
  {
   "cell_type": "code",
   "execution_count": 25,
   "metadata": {},
   "outputs": [
    {
     "data": {
      "image/png": "[encoded data removed]",
      "text/plain": [
       "<Figure size 432x288 with 1 Axes>"
      ]
     },
     "metadata": {
      "needs_background": "light"
     },
     "output_type": "display_data"
    },
    {
     "data": {
      "text/plain": [
       "<Figure size 864x576 with 0 Axes>"
      ]
     },
     "metadata": {},
     "output_type": "display_data"
    }
   ],
   "source": [
    "# VISUALIZATION\n",
    "sb.countplot(data=df.query('start_day==\"Saturday\" or start_day==\"Sunday\"'), x='start_hour', color='b');\n",
    "plotVisual('Hour of the day', 'No. of trips', 'Weekend Hourly Trip Distribution')"
   ]
  },
  {
   "cell_type": "markdown",
   "metadata": {},
   "source": [
    "### Observation\n",
    "The distribution is unimodal with most trips being taken between 1pm and 2pm."
   ]
  },
  {
   "cell_type": "markdown",
   "metadata": {},
   "source": [
    "### Question\n",
    "#### What is the 10 most common destinations for the bike trips?"
   ]
  },
  {
   "cell_type": "code",
   "execution_count": 26,
   "metadata": {},
   "outputs": [
    {
     "data": {
      "image/png": "[encoded data removed]",
      "text/plain": [
       "<Figure size 432x288 with 1 Axes>"
      ]
     },
     "metadata": {
      "needs_background": "light"
     },
     "output_type": "display_data"
    },
    {
     "data": {
      "text/plain": [
       "<Figure size 864x576 with 0 Axes>"
      ]
     },
     "metadata": {},
     "output_type": "display_data"
    }
   ],
   "source": [
    "# VISUALIZATIONS\n",
    "sb.countplot(data=df, y='end_station_name', color='blue', order=df.end_station_name.value_counts()[:10].index);\n",
    "plotVisual('No of Trips', 'Destination station Name', 'Most ten common station destinations');"
   ]
  },
  {
   "cell_type": "markdown",
   "metadata": {},
   "source": [
    "### Observation\n",
    "The most common destination was San Fransisco Caltrain Station 2."
   ]
  },
  {
   "cell_type": "markdown",
   "metadata": {},
   "source": [
    "### The distributions of variables of interest, any unusual points and any transformations\n",
    "* The dataset contains many male users than female and the undisclosed gender users.\n",
    "* Moreover, major part of the users are subscribers with very little amount of them falling into the customer category. \n",
    "* The duration of the trips are mostly between 4 to 9 minutes, which makes a lot of sense because this riding system is for single, short rides of up to 30 minutes. \n",
    "* There did not seem to be any unusual points, therefore there was no need for any transformations. Only outliers were ignored in visualizing som charts.\n",
    "\n",
    "### Any unusual distributions, operations perfomed on the data to tidy, adjust, or change the form of the data and the reasons.\n",
    "* The `member_age` attribute had some outliers, which are beyond the normal human lifespan. This data would have distorted the data so I changed all the ages above 80 years to the mean age.\n",
    "* Moreover, I also dropped some columns I didnt intend to use in this project."
   ]
  },
  {
   "cell_type": "markdown",
   "metadata": {},
   "source": [
    "# 2. Bivariate Exploration"
   ]
  },
  {
   "cell_type": "markdown",
   "metadata": {},
   "source": [
    "## Question\n",
    "#### Which day of the week has the most average trip duration?"
   ]
  },
  {
   "cell_type": "code",
   "execution_count": 27,
   "metadata": {
    "scrolled": true
   },
   "outputs": [
    {
     "data": {
      "image/png": "[encoded data removed]",
      "text/plain": [
       "<Figure size 432x288 with 1 Axes>"
      ]
     },
     "metadata": {
      "needs_background": "light"
     },
     "output_type": "display_data"
    },
    {
     "data": {
      "text/plain": [
       "<Figure size 864x576 with 0 Axes>"
      ]
     },
     "metadata": {},
     "output_type": "display_data"
    }
   ],
   "source": [
    "# VISUALIZATION\n",
    "order_of_days =  ['Monday','Tuesday','Wednesday','Thursday','Friday','Saturday','Sunday']\n",
    "sb.barplot(data = df, x = 'start_day', y ='duration_min', color = 'b', order = order_of_days)\n",
    "plt.xticks(rotation = 45)\n",
    "plotVisual('Day of the week', 'Average Trip Duration (min)', 'Average Trip Duration vs Day of the Week');"
   ]
  },
  {
   "cell_type": "markdown",
   "metadata": {},
   "source": [
    "### Observation\n",
    "The average highest duration of the trips are on Saturday and Sunday. This might suggest that people will be taking trips for fun or exercise during the weekend as they be having free time other than the weekdays."
   ]
  },
  {
   "cell_type": "markdown",
   "metadata": {},
   "source": [
    "### Question\n",
    "#### What is the distribution of trips by user type for each gender type?"
   ]
  },
  {
   "cell_type": "code",
   "execution_count": 28,
   "metadata": {
    "scrolled": false
   },
   "outputs": [
    {
     "data": {
      "image/png": "[encoded data removed]",
      "text/plain": [
       "<Figure size 432x288 with 1 Axes>"
      ]
     },
     "metadata": {
      "needs_background": "light"
     },
     "output_type": "display_data"
    },
    {
     "data": {
      "text/plain": [
       "<Figure size 864x576 with 0 Axes>"
      ]
     },
     "metadata": {},
     "output_type": "display_data"
    }
   ],
   "source": [
    "# VISUALIZATION\n",
    "sb.countplot(data = df, x = 'member_gender', hue = 'user_type');\n",
    "plotVisual('Member Gender', 'No. of Trips', 'User type by Gender vs Number of Trips');"
   ]
  },
  {
   "cell_type": "markdown",
   "metadata": {},
   "source": [
    "### Observation\n",
    "Irrespective of the gender sub-division subscribers are always greater than the customers."
   ]
  },
  {
   "cell_type": "markdown",
   "metadata": {},
   "source": [
    "### Question\n",
    "#### What is the relationship between trip durations and member age?"
   ]
  },
  {
   "cell_type": "code",
   "execution_count": 29,
   "metadata": {
    "scrolled": true
   },
   "outputs": [
    {
     "data": {
      "image/png": "[encoded data removed]",
      "text/plain": [
       "<Figure size 432x288 with 1 Axes>"
      ]
     },
     "metadata": {
      "needs_background": "light"
     },
     "output_type": "display_data"
    },
    {
     "data": {
      "text/plain": [
       "<Figure size 864x576 with 0 Axes>"
      ]
     },
     "metadata": {},
     "output_type": "display_data"
    }
   ],
   "source": [
    "# VISUALIZATION\n",
    "ticks = list(range(45)) # limiting the duration to 45 mins to remove outliers\n",
    "bins = np.arange(0, df['duration_min'].max()+5)\n",
    "sb.regplot(data = df, x = 'member_age', y = 'duration_min', truncate=False, x_jitter=0.3, scatter_kws={'alpha':1/20});\n",
    "plt.ylim((0, 45));\n",
    "plt.yticks(ticks[::5])\n",
    "plotVisual('Member Age (years)', 'Average Trip Duration (min)', 'Relationship between average trip durations and member age')"
   ]
  },
  {
   "cell_type": "markdown",
   "metadata": {},
   "source": [
    "### Observation\n",
    "The users between the age of 25 - 35 years took most of the long average trips."
   ]
  },
  {
   "cell_type": "markdown",
   "metadata": {},
   "source": [
    "### Question\n",
    "#### What is the distribution of trip duration per member gender?"
   ]
  },
  {
   "cell_type": "code",
   "execution_count": 30,
   "metadata": {
    "scrolled": false
   },
   "outputs": [
    {
     "data": {
      "image/png": "[encoded data removed]",
      "text/plain": [
       "<Figure size 432x288 with 1 Axes>"
      ]
     },
     "metadata": {
      "needs_background": "light"
     },
     "output_type": "display_data"
    },
    {
     "data": {
      "text/plain": [
       "<Figure size 864x576 with 0 Axes>"
      ]
     },
     "metadata": {},
     "output_type": "display_data"
    }
   ],
   "source": [
    "# VISUALIZATION\n",
    "sb.kdeplot(x = 'duration_min', data=df[df['duration_min'] <= 45], hue='member_gender')\n",
    "plotVisual('Trip duration (min)', 'Density', 'Distribution of trip duration per member gender')"
   ]
  },
  {
   "cell_type": "markdown",
   "metadata": {},
   "source": [
    "### Observation\n",
    "The distribution does not differ much from that of the whole dataset even if grouped by gender."
   ]
  },
  {
   "cell_type": "markdown",
   "metadata": {},
   "source": [
    "### Question\n",
    "#### What is the average trip duration per each start hour of the day?"
   ]
  },
  {
   "cell_type": "code",
   "execution_count": 31,
   "metadata": {
    "scrolled": true
   },
   "outputs": [
    {
     "data": {
      "image/png": "[encoded data removed]",
      "text/plain": [
       "<Figure size 720x360 with 1 Axes>"
      ]
     },
     "metadata": {
      "needs_background": "light"
     },
     "output_type": "display_data"
    },
    {
     "data": {
      "text/plain": [
       "<Figure size 864x576 with 0 Axes>"
      ]
     },
     "metadata": {},
     "output_type": "display_data"
    }
   ],
   "source": [
    "# VISUALIZATION\n",
    "df.groupby('start_hour')['duration_min'].mean().plot(kind='line', figsize=(10,5))\n",
    "plt.xticks([x for x in range(0,25, 1)])\n",
    "plotVisual('Start hour', 'Average Trip Duration (min)', 'Average trip duration per start hour')"
   ]
  },
  {
   "cell_type": "markdown",
   "metadata": {},
   "source": [
    "### Observation\n",
    "Trips which start at 3am are the longest on average."
   ]
  },
  {
   "cell_type": "markdown",
   "metadata": {},
   "source": [
    "### Question\n",
    "#### What is the relationship between user type and trip duration?"
   ]
  },
  {
   "cell_type": "code",
   "execution_count": 32,
   "metadata": {
    "scrolled": true
   },
   "outputs": [
    {
     "data": {
      "image/png": "[encoded data removed]",
      "text/plain": [
       "<Figure size 432x288 with 1 Axes>"
      ]
     },
     "metadata": {
      "needs_background": "light"
     },
     "output_type": "display_data"
    },
    {
     "data": {
      "text/plain": [
       "<Figure size 864x576 with 0 Axes>"
      ]
     },
     "metadata": {},
     "output_type": "display_data"
    }
   ],
   "source": [
    "# VISUALIZATION\n",
    "sb.boxplot(data = df, x =  df['user_type'], y = df['duration_min'])\n",
    "plt.ylim((0,60)) # Limiting the ride duration to 60 mins to remove outliers\n",
    "plotVisual('User Type', 'Trip Duration (min)', 'Relationship between user type and trip duration')"
   ]
  },
  {
   "cell_type": "markdown",
   "metadata": {},
   "source": [
    "### Observation\n",
    "From this chart it shows that the average of the trip duration of customers is clearly greater than the average duration of the subscribers."
   ]
  },
  {
   "cell_type": "markdown",
   "metadata": {},
   "source": [
    "### The relationships observed and how did the features of interest vary with other features in the dataset.\n",
    "* The subscribers always have more trips even when grouped by gender.\n",
    "* The relationship between the trip duration and age is interesting because it shows how the duration decreases with age.\n",
    "* The relationship between the average trip duration and user type is interesting because it shows that customers take longer rides than the subscribers.\n",
    "\n",
    "### Interesting relationships between the other features.\n",
    "\n",
    "* The distributions seem normal and logical."
   ]
  },
  {
   "cell_type": "markdown",
   "metadata": {},
   "source": [
    "# 3. Multivariate Exploration"
   ]
  },
  {
   "cell_type": "markdown",
   "metadata": {},
   "source": [
    "### Question\n",
    "#### What is average trip for each member gender of the user types?"
   ]
  },
  {
   "cell_type": "code",
   "execution_count": 33,
   "metadata": {
    "scrolled": false
   },
   "outputs": [
    {
     "data": {
      "image/png": "[encoded data removed]",
      "text/plain": [
       "<Figure size 403.2x288 with 2 Axes>"
      ]
     },
     "metadata": {
      "needs_background": "light"
     },
     "output_type": "display_data"
    }
   ],
   "source": [
    "# VISUALIZATION\n",
    "sb.catplot(x = \"member_gender\", y = \"duration_min\",\n",
    "                col = \"user_type\",\n",
    "                data = df, kind = \"bar\",\n",
    "                height=4, aspect=.7);"
   ]
  },
  {
   "cell_type": "markdown",
   "metadata": {},
   "source": [
    "### Observation\n",
    "Customers have a higher average trip duration across all genders."
   ]
  },
  {
   "cell_type": "markdown",
   "metadata": {},
   "source": [
    "### Question \n",
    "#### What is the number of trips taken taken by the user types for each day of the week?"
   ]
  },
  {
   "cell_type": "code",
   "execution_count": 34,
   "metadata": {
    "scrolled": true
   },
   "outputs": [
    {
     "data": {
      "text/plain": [
       "<seaborn.axisgrid.FacetGrid at 0x272d668f850>"
      ]
     },
     "execution_count": 34,
     "metadata": {},
     "output_type": "execute_result"
    },
    {
     "data": {
      "image/png": "[encoded data removed]",
      "text/plain": [
       "<Figure size 576x360 with 7 Axes>"
      ]
     },
     "metadata": {
      "needs_background": "light"
     },
     "output_type": "display_data"
    }
   ],
   "source": [
    "g = sb.catplot(x=\"user_type\", col=\"start_day\", col_wrap=4,\n",
    "                data=df[df.start_day.notnull()],\n",
    "                kind=\"count\", height=2.5, aspect=.8)\n",
    "g.set_axis_labels(\"\", \"No. of Trips\")"
   ]
  },
  {
   "cell_type": "markdown",
   "metadata": {},
   "source": [
    "### Observation\n",
    "The number of trips by customers is within the same range for all the days, but for subscribers number of trips are high during weekdays and on weekend they are low."
   ]
  },
  {
   "cell_type": "markdown",
   "metadata": {},
   "source": [
    "### Question\n",
    "#### What is distribution of trips duration for each gender for each user type?"
   ]
  },
  {
   "cell_type": "code",
   "execution_count": 51,
   "metadata": {
    "scrolled": true
   },
   "outputs": [
    {
     "data": {
      "text/plain": [
       "<seaborn.axisgrid.FacetGrid at 0x272de52eaf0>"
      ]
     },
     "execution_count": 51,
     "metadata": {},
     "output_type": "execute_result"
    },
    {
     "data": {
      "image/png": "[encoded data removed]",
      "text/plain": [
       "<Figure size 522.375x216 with 2 Axes>"
      ]
     },
     "metadata": {
      "needs_background": "light"
     },
     "output_type": "display_data"
    }
   ],
   "source": [
    "# VISUALIZATION\n",
    "df2 = df.sample(2000) # To limit overcowding of plots\n",
    "g = sb.FacetGrid(df2, col=\"user_type\", hue=\"member_gender\")\n",
    "g.map_dataframe(sb.scatterplot, y= \"duration_min\", x = \"member_age\")\n",
    "g.set(ylim=(0, 45))\n",
    "g.add_legend()"
   ]
  },
  {
   "cell_type": "markdown",
   "metadata": {},
   "source": [
    "### Observation\n",
    "The most trips are between 5-15 minutes and on age of 20-45 years for both customers and subscribers."
   ]
  },
  {
   "cell_type": "markdown",
   "metadata": {},
   "source": [
    "### Question\n",
    "#### What is distribution of trips duration for each gender for each user type?"
   ]
  },
  {
   "cell_type": "code",
   "execution_count": 52,
   "metadata": {
    "scrolled": true
   },
   "outputs": [
    {
     "data": {
      "image/png": "[encoded data removed]",
      "text/plain": [
       "<Figure size 648x432 with 6 Axes>"
      ]
     },
     "metadata": {
      "needs_background": "light"
     },
     "output_type": "display_data"
    }
   ],
   "source": [
    "df2 = df.sample(2000)\n",
    "g = sb.FacetGrid(df2, col=\"member_gender\", row=\"user_type\", margin_titles=True)\n",
    "g.map_dataframe(sb.scatterplot, x=\"member_age\", y=\"duration_min\")\n",
    "g.set_axis_labels(\"Member Age (years)\", \"Trip Duration (min)\")\n",
    "g.set_titles(col_template=\"{col_name}\", row_template=\"{row_name}\")\n",
    "g.set(xlim=(0, 80), ylim=(0, 35), xticks=[20, 40, 60, 80], yticks=[10, 20, 30, 40])\n",
    "g.tight_layout()"
   ]
  },
  {
   "cell_type": "markdown",
   "metadata": {},
   "source": [
    "### Observation\n",
    "The most trips are between 5-15 minutes and on age of 20-45 years for both customers and subscribers."
   ]
  },
  {
   "cell_type": "markdown",
   "metadata": {},
   "source": [
    "### The relationships observed. Were there features that strengthened each other in terms of looking at your feature(s) of interest?\n",
    "\n",
    "* Customers have a higher average trip duration across all genders.\n",
    "\n",
    "* The number of trips by customers is within the same range for all the days, but for subscribers number of trips are high during weekdays and on weekend they are low.\n",
    "\n",
    "* The most trips are between 5-15 minutes and on age of 20-45 years for both customers and subscribers.\n",
    "\n",
    "* The most trips are between 5-15 minutes and on age of 20-45 years for both customers and subscribers.\n",
    "\n",
    "### Were there any interesting or surprising interactions between features?\n",
    "\n",
    "* There were no suprising interactions between the features.\n",
    "* The results of the multivariate exploration is similar to that of the previous explorations."
   ]
  },
  {
   "cell_type": "markdown",
   "metadata": {},
   "source": [
    "# Conclusions\n",
    "The main conclusions that can be inferred from this dataset are-:\n",
    "* bike trips are mostly short, between 5 or 15 minutes long.\n",
    "* most of the users are between 20 and 40 years of age.\n",
    "* week days has the most trips with Thursday and Tuesday being the highest.\n",
    "* most trips start at during the 8th hour in the morning and during the 5th hour in the afternoon, which infers that most users take the trips to go to work.\n",
    "* the average trip duration during weekends is longer than that during the weekdays.\n",
    "* customers use the bikes for longer periods than subscribers and the trips usually takes place on weekend.\n",
    "* San Francisco Caltrain Station 2 and Market St are the two most common destinations."
   ]
  },
  {
   "cell_type": "markdown",
   "metadata": {},
   "source": [
    "### Saving cleaned dataset"
   ]
  },
  {
   "cell_type": "code",
   "execution_count": 60,
   "metadata": {},
   "outputs": [],
   "source": [
    "df.to_csv('201902-fordgobike-tripdata-clean.csv', index=False)"
   ]
  }
 ],
 "metadata": {
  "kernelspec": {
   "display_name": "Python 3 (ipykernel)",
   "language": "python",
   "name": "python3"
  },
  "language_info": {
   "codemirror_mode": {
    "name": "ipython",
    "version": 3
   },
   "file_extension": ".py",
   "mimetype": "text/x-python",
   "name": "python",
   "nbconvert_exporter": "python",
   "pygments_lexer": "ipython3",
   "version": "3.9.12"
  }
 },
 "nbformat": 4,
 "nbformat_minor": 2
}
